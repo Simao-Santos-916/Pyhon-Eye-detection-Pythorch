{
 "cells": [
  {
   "cell_type": "code",
   "execution_count": 13,
   "metadata": {},
   "outputs": [
    {
     "name": "stdout",
     "output_type": "stream",
     "text": [
      "Populating the interactive namespace from numpy and matplotlib\n"
     ]
    }
   ],
   "source": [
    "%pylab inline\n",
    "import numpy as np\n",
    "import os\n",
    "import mahotas\n",
    "import scipy as sc\n",
    "from scipy import signal\n",
    "from scipy import ndimage\n",
    "import scipy.ndimage\n",
    "import sys\n",
    "import skimage.morphology as sm\n",
    "import pylab as pl\n",
    "from scipy import signal\n",
    "from sklearn.metrics import confusion_matrix"
   ]
  },
  {
   "cell_type": "code",
   "execution_count": 14,
   "metadata": {},
   "outputs": [
    {
     "data": {
      "text/plain": [
       "<matplotlib.figure.Figure at 0x7f8bb95bf7f0>"
      ]
     },
     "metadata": {},
     "output_type": "display_data"
    }
   ],
   "source": [
    "gray()\n",
    "i_01=imread('DRIVE/test/images/01_test.tif')\n",
    "i_02=imread('DRIVE/test/images/02_test.tif')\n",
    "i_03=imread('DRIVE/test/images/03_test.tif')\n",
    "i_04=imread('DRIVE/test/images/04_test.tif')\n",
    "i_05=imread('DRIVE/test/images/05_test.tif')\n",
    "i_06=imread('DRIVE/test/images/06_test.tif')\n",
    "i_07=imread('DRIVE/test/images/07_test.tif')\n",
    "i_08=imread('DRIVE/test/images/08_test.tif')\n",
    "i_09=imread('DRIVE/test/images/09_test.tif')\n",
    "i_10=imread('DRIVE/test/images/10_test.tif')\n",
    "i_11=imread('DRIVE/test/images/11_test.tif')\n",
    "i_12=imread('DRIVE/test/images/12_test.tif')\n",
    "i_13=imread('DRIVE/test/images/13_test.tif')\n",
    "i_14=imread('DRIVE/test/images/14_test.tif')\n",
    "i_15=imread('DRIVE/test/images/15_test.tif')\n",
    "i_16=imread('DRIVE/test/images/16_test.tif')\n",
    "i_17=imread('DRIVE/test/images/17_test.tif')\n",
    "i_18=imread('DRIVE/test/images/18_test.tif')\n",
    "i_19=imread('DRIVE/test/images/19_test.tif')\n",
    "i_20=imread('DRIVE/test/images/20_test.tif')\n",
    "i_21=imread('DRIVE/training/images/21_training.tif')\n",
    "i_22=imread('DRIVE/training/images/22_training.tif')\n",
    "i_23=imread('DRIVE/training/images/23_training.tif')\n",
    "i_24=imread('DRIVE/training/images/24_training.tif')\n",
    "i_25=imread('DRIVE/training/images/25_training.tif')\n",
    "i_26=imread('DRIVE/training/images/26_training.tif')\n",
    "i_27=imread('DRIVE/training/images/27_training.tif')\n",
    "i_28=imread('DRIVE/training/images/28_training.tif')\n",
    "i_29=imread('DRIVE/training/images/29_training.tif')\n",
    "i_30=imread('DRIVE/training/images/30_training.tif')\n",
    "i_31=imread('DRIVE/training/images/31_training.tif')\n",
    "i_32=imread('DRIVE/training/images/32_training.tif')\n",
    "i_33=imread('DRIVE/training/images/33_training.tif')\n",
    "i_34=imread('DRIVE/training/images/34_training.tif')\n",
    "i_35=imread('DRIVE/training/images/35_training.tif')\n",
    "i_36=imread('DRIVE/training/images/36_training.tif')\n",
    "i_37=imread('DRIVE/training/images/37_training.tif')\n",
    "i_38=imread('DRIVE/training/images/38_training.tif')\n",
    "i_39=imread('DRIVE/training/images/39_training.tif')\n",
    "i_40=imread('DRIVE/training/images/40_training.tif')"
   ]
  },
  {
   "cell_type": "code",
   "execution_count": 15,
   "metadata": {
    "collapsed": true
   },
   "outputs": [],
   "source": [
    "iv_01=imread('DRIVE/test/1st_manual/01_manual1.gif')\n",
    "iv_02=imread('DRIVE/test/1st_manual/02_manual1.gif')\n",
    "iv_03=imread('DRIVE/test/1st_manual/03_manual1.gif')\n",
    "iv_04=imread('DRIVE/test/1st_manual/04_manual1.gif')\n",
    "iv_05=imread('DRIVE/test/1st_manual/05_manual1.gif')\n",
    "iv_06=imread('DRIVE/test/1st_manual/06_manual1.gif')\n",
    "iv_07=imread('DRIVE/test/1st_manual/07_manual1.gif')\n",
    "iv_08=imread('DRIVE/test/1st_manual/08_manual1.gif')\n",
    "iv_09=imread('DRIVE/test/1st_manual/09_manual1.gif')\n",
    "iv_10=imread('DRIVE/test/1st_manual/10_manual1.gif')\n",
    "iv_11=imread('DRIVE/test/1st_manual/11_manual1.gif')\n",
    "iv_12=imread('DRIVE/test/1st_manual/12_manual1.gif')\n",
    "iv_13=imread('DRIVE/test/1st_manual/13_manual1.gif')\n",
    "iv_14=imread('DRIVE/test/1st_manual/14_manual1.gif')\n",
    "iv_15=imread('DRIVE/test/1st_manual/15_manual1.gif')\n",
    "iv_16=imread('DRIVE/test/1st_manual/16_manual1.gif')\n",
    "iv_17=imread('DRIVE/test/1st_manual/17_manual1.gif')\n",
    "iv_18=imread('DRIVE/test/1st_manual/18_manual1.gif')\n",
    "iv_19=imread('DRIVE/test/1st_manual/19_manual1.gif')\n",
    "iv_20=imread('DRIVE/test/1st_manual/20_manual1.gif')\n",
    "iv_21=imread('DRIVE/training/1st_manual/21_manual1.gif')\n",
    "iv_22=imread('DRIVE/training/1st_manual/22_manual1.gif')\n",
    "iv_23=imread('DRIVE/training/1st_manual/23_manual1.gif')\n",
    "iv_24=imread('DRIVE/training/1st_manual/24_manual1.gif')\n",
    "iv_25=imread('DRIVE/training/1st_manual/25_manual1.gif')\n",
    "iv_26=imread('DRIVE/training/1st_manual/26_manual1.gif')\n",
    "iv_27=imread('DRIVE/training/1st_manual/27_manual1.gif')\n",
    "iv_28=imread('DRIVE/training/1st_manual/28_manual1.gif')\n",
    "iv_29=imread('DRIVE/training/1st_manual/29_manual1.gif')\n",
    "iv_30=imread('DRIVE/training/1st_manual/30_manual1.gif')\n",
    "iv_31=imread('DRIVE/training/1st_manual/31_manual1.gif')\n",
    "iv_32=imread('DRIVE/training/1st_manual/32_manual1.gif')\n",
    "iv_33=imread('DRIVE/training/1st_manual/33_manual1.gif')\n",
    "iv_34=imread('DRIVE/training/1st_manual/34_manual1.gif')\n",
    "iv_35=imread('DRIVE/training/1st_manual/35_manual1.gif')\n",
    "iv_36=imread('DRIVE/training/1st_manual/36_manual1.gif')\n",
    "iv_37=imread('DRIVE/training/1st_manual/37_manual1.gif')\n",
    "iv_38=imread('DRIVE/training/1st_manual/38_manual1.gif')\n",
    "iv_39=imread('DRIVE/training/1st_manual/39_manual1.gif')\n",
    "iv_40=imread('DRIVE/training/1st_manual/40_manual1.gif')"
   ]
  },
  {
   "cell_type": "markdown",
   "metadata": {},
   "source": [
    "### Pré-Processamento"
   ]
  },
  {
   "cell_type": "code",
   "execution_count": 16,
   "metadata": {
    "collapsed": true
   },
   "outputs": [],
   "source": [
    "def mascara (image):\n",
    "    image_pb=image[:,:,1]\n",
    "    \n",
    "    # padding da imagem -> o padding foi realizado para que prevenir casos em que os contornos das imagens são\n",
    "    # muito proximos das margens\n",
    "    L = image_pb.shape[0]\n",
    "    C = image_pb.shape[1] \n",
    "    im_pad= zeros(((L+10), (C+10))) # criação de uma matriz com mais 6 pixeis preto de cada\n",
    "                                    # lado da imagem original \n",
    "    im_pad[5:-5,5:-5]= image_pb  # centra a imagem\n",
    "    \n",
    "    \n",
    "    #closing da imagem -> suavização dos niveis de cinzento da imagem\n",
    "    kernel1= sm.disk(5)   # Kernel forma circular\n",
    "    im_pad=im_pad.astype(np.uint8) #passar a imagem para int8\n",
    "    im_dilate = mahotas.morph.dilate(im_pad,kernel1) #dilatação da imagem com o elemento estruturante\n",
    "    im_cls = mahotas.morph.erode(im_dilate,kernel1) # erosao da imagem com o elemento estruturante\n",
    "    \n",
    "    #gradiente\n",
    "    conv_array = array(im_cls, dtype=float)  # converte a imagem para o tipo float\n",
    "    i_grad=scipy.ndimage.gaussian_gradient_magnitude(conv_array,0.7) #calculo do gradiente \n",
    "    \n",
    "    m=int(L/2)\n",
    "    n=int(C/2)\n",
    "    \n",
    "    #binarização \n",
    "    #compartimentação da imagem em 4\n",
    "    p1=i_grad[0:m,0:n].astype(np.uint8)  \n",
    "    p2=i_grad[m:2*m+1,0:n].astype(np.uint8) \n",
    "    p3=i_grad[0:m,n:2*n+1].astype(np.uint8)\n",
    "    p4=i_grad[m:2*m+1,n:2*n+1].astype(np.uint8)\n",
    " \n",
    "    #calculo do threshold\n",
    "    th1 = mahotas.thresholding.otsu(p1)\n",
    "    th2 = mahotas.thresholding.otsu(p2)\n",
    "    th3 = mahotas.thresholding.otsu(p3)\n",
    "    th4 = mahotas.thresholding.otsu(p4)\n",
    "\n",
    "    \n",
    "    i_bin1 = zeros((m,n))\n",
    "    i_bin2 = zeros((m,n))\n",
    "    i_bin3 = zeros((m,n))\n",
    "    i_bin4 = zeros((m,n))\n",
    "\n",
    "    \n",
    "    #binarização\n",
    "    i_bin1[(p1>th1)]=1 \n",
    "    i_bin2[(p2>th2)]=1 \n",
    "    i_bin3[(p3>th3)]=1 \n",
    "    i_bin4[(p4>th4)]=1 \n",
    "\n",
    "    \n",
    "    img_bin=zeros(i_grad.shape)\n",
    "    img_bin[0:m,0:n]=i_bin1\n",
    "    img_bin[m:m*2,0:n]=i_bin2\n",
    "    img_bin[0:m,n:n*2]=i_bin3\n",
    "    img_bin[m:m*2,n:n*2]=i_bin4\n",
    "\n",
    "    \n",
    "    #dilatação\n",
    "    kernel2 = ones((7,7))\n",
    "    i_dil = sc.ndimage.morphology.binary_dilation(img_bin, structure=kernel2)\n",
    "    \n",
    "    #imagem subtraida \n",
    "    i_sub=i_dil-img_bin\n",
    "    \n",
    "    #labels da imagem\n",
    "    i_labels, nr = mahotas.labeled.label(i_sub)\n",
    "    i_lab_s = mahotas.labeled.labeled_size(i_labels)\n",
    "    i_lab_s_srt = sort(i_lab_s) #ordenar os labels da imagem\n",
    "\n",
    "    \n",
    "    #escolha da borda interna \n",
    "    # -1 background\n",
    "    #-2 borda externa\n",
    "    # -3 borda interna\n",
    "    borda_interna = nonzero(i_lab_s == i_lab_s_srt[-3]) #escolhe a borda interior\n",
    "    \n",
    "    #mascara\n",
    "    i_bordas = zeros((i_sub.shape))\n",
    "    i_bordas[i_labels==borda_interna]=1\n",
    "    \n",
    "    #preenchimento da mascara\n",
    "    mascara = sc.ndimage.morphology.binary_fill_holes(i_bordas)\n",
    "    unpad = zeros ((L, C))\n",
    "    unpad = mascara[5:-5, 5:-5]\n",
    "\n",
    "    \n",
    "    return unpad"
   ]
  },
  {
   "cell_type": "code",
   "execution_count": 17,
   "metadata": {},
   "outputs": [
    {
     "ename": "IndexError",
     "evalue": "boolean index did not match indexed array along dimension 0; dimension is 292 but corresponding boolean dimension is 293",
     "output_type": "error",
     "traceback": [
      "\u001b[0;31m---------------------------------------------------------------------------\u001b[0m",
      "\u001b[0;31mIndexError\u001b[0m                                Traceback (most recent call last)",
      "\u001b[0;32m<ipython-input-17-4cd1409030d1>\u001b[0m in \u001b[0;36m<module>\u001b[0;34m()\u001b[0m\n\u001b[0;32m----> 1\u001b[0;31m \u001b[0mii_01\u001b[0m\u001b[0;34m=\u001b[0m\u001b[0mmascara\u001b[0m\u001b[0;34m(\u001b[0m\u001b[0mi_01\u001b[0m\u001b[0;34m)\u001b[0m\u001b[0;34m\u001b[0m\u001b[0m\n\u001b[0m\u001b[1;32m      2\u001b[0m \u001b[0mii_02\u001b[0m\u001b[0;34m=\u001b[0m\u001b[0mmascara\u001b[0m\u001b[0;34m(\u001b[0m\u001b[0mi_02\u001b[0m\u001b[0;34m)\u001b[0m\u001b[0;34m\u001b[0m\u001b[0m\n\u001b[1;32m      3\u001b[0m \u001b[0mii_04\u001b[0m\u001b[0;34m=\u001b[0m\u001b[0mmascara\u001b[0m\u001b[0;34m(\u001b[0m\u001b[0mi_04\u001b[0m\u001b[0;34m)\u001b[0m\u001b[0;34m\u001b[0m\u001b[0m\n\u001b[1;32m      4\u001b[0m \u001b[0mii_05\u001b[0m\u001b[0;34m=\u001b[0m\u001b[0mmascara\u001b[0m\u001b[0;34m(\u001b[0m\u001b[0mi_05\u001b[0m\u001b[0;34m)\u001b[0m\u001b[0;34m\u001b[0m\u001b[0m\n\u001b[1;32m      5\u001b[0m \u001b[0mii_06\u001b[0m\u001b[0;34m=\u001b[0m\u001b[0mmascara\u001b[0m\u001b[0;34m(\u001b[0m\u001b[0mi_06\u001b[0m\u001b[0;34m)\u001b[0m\u001b[0;34m\u001b[0m\u001b[0m\n",
      "\u001b[0;32m<ipython-input-16-255527b8f7d7>\u001b[0m in \u001b[0;36mmascara\u001b[0;34m(image)\u001b[0m\n\u001b[1;32m     46\u001b[0m     \u001b[0;31m#binarização\u001b[0m\u001b[0;34m\u001b[0m\u001b[0;34m\u001b[0m\u001b[0m\n\u001b[1;32m     47\u001b[0m     \u001b[0mi_bin1\u001b[0m\u001b[0;34m[\u001b[0m\u001b[0;34m(\u001b[0m\u001b[0mp1\u001b[0m\u001b[0;34m>\u001b[0m\u001b[0mth1\u001b[0m\u001b[0;34m)\u001b[0m\u001b[0;34m]\u001b[0m\u001b[0;34m=\u001b[0m\u001b[0;36m1\u001b[0m\u001b[0;34m\u001b[0m\u001b[0m\n\u001b[0;32m---> 48\u001b[0;31m     \u001b[0mi_bin2\u001b[0m\u001b[0;34m[\u001b[0m\u001b[0;34m(\u001b[0m\u001b[0mp2\u001b[0m\u001b[0;34m>\u001b[0m\u001b[0mth2\u001b[0m\u001b[0;34m)\u001b[0m\u001b[0;34m]\u001b[0m\u001b[0;34m=\u001b[0m\u001b[0;36m1\u001b[0m\u001b[0;34m\u001b[0m\u001b[0m\n\u001b[0m\u001b[1;32m     49\u001b[0m     \u001b[0mi_bin3\u001b[0m\u001b[0;34m[\u001b[0m\u001b[0;34m(\u001b[0m\u001b[0mp3\u001b[0m\u001b[0;34m>\u001b[0m\u001b[0mth3\u001b[0m\u001b[0;34m)\u001b[0m\u001b[0;34m]\u001b[0m\u001b[0;34m=\u001b[0m\u001b[0;36m1\u001b[0m\u001b[0;34m\u001b[0m\u001b[0m\n\u001b[1;32m     50\u001b[0m     \u001b[0mi_bin4\u001b[0m\u001b[0;34m[\u001b[0m\u001b[0;34m(\u001b[0m\u001b[0mp4\u001b[0m\u001b[0;34m>\u001b[0m\u001b[0mth4\u001b[0m\u001b[0;34m)\u001b[0m\u001b[0;34m]\u001b[0m\u001b[0;34m=\u001b[0m\u001b[0;36m1\u001b[0m\u001b[0;34m\u001b[0m\u001b[0m\n",
      "\u001b[0;31mIndexError\u001b[0m: boolean index did not match indexed array along dimension 0; dimension is 292 but corresponding boolean dimension is 293"
     ]
    }
   ],
   "source": [
    "ii_01=mascara(i_01)\n",
    "ii_02=mascara(i_02)\n",
    "ii_04=mascara(i_04)\n",
    "ii_05=mascara(i_05)\n",
    "ii_06=mascara(i_06)\n",
    "ii_07=mascara(i_07)\n",
    "ii_08=mascara(i_08)\n",
    "ii_09=mascara(i_09)\n",
    "ii_10=mascara(i_10)\n",
    "ii_11=mascara(i_11)\n",
    "ii_12=mascara(i_12)\n",
    "ii_13=mascara(i_13)\n",
    "ii_14=mascara(i_14)\n",
    "ii_15=mascara(i_15)\n",
    "ii_16=mascara(i_16)\n",
    "ii_17=mascara(i_17)\n",
    "ii_18=mascara(i_18)\n",
    "ii_19=mascara(i_19)\n",
    "ii_20=mascara(i_20)\n",
    "ii_21=mascara(i_21)\n",
    "ii_22=mascara(i_22)\n",
    "ii_23=mascara(i_23)\n",
    "ii_24=mascara(i_24)\n",
    "ii_25=mascara(i_25)\n",
    "ii_26=mascara(i_26)\n",
    "ii_27=mascara(i_27)\n",
    "ii_28=mascara(i_28)\n",
    "ii_29=mascara(i_29)\n",
    "ii_30=mascara(i_30)\n",
    "ii_31=mascara(i_31)\n",
    "ii_32=mascara(i_32)\n",
    "ii_33=mascara(i_33)\n",
    "ii_34=mascara(i_34)\n",
    "ii_35=mascara(i_35)\n",
    "ii_36=mascara(i_36)\n",
    "ii_37=mascara(i_37)\n",
    "ii_38=mascara(i_38)\n",
    "ii_39=mascara(i_39)\n",
    "ii_40=mascara(i_40)"
   ]
  },
  {
   "cell_type": "code",
   "execution_count": null,
   "metadata": {
    "collapsed": true
   },
   "outputs": [],
   "source": [
    "def normalize_mask(mask):\n",
    "    for i in range(mask.shape[0]):\n",
    "        for j in range (mask.shape[1]):\n",
    "            if mask[i,j]>0:\n",
    "                mask[i,j]=1\n",
    "    return mask"
   ]
  },
  {
   "cell_type": "code",
   "execution_count": null,
   "metadata": {
    "collapsed": true
   },
   "outputs": [],
   "source": [
    "def padding(image,pading):\n",
    "    pad=round(pading/2)\n",
    "    M = image.shape[0]\n",
    "    N = image.shape[1] \n",
    "    im_pad= zeros(((M+pading), (N+pading)))\n",
    "    im_pad[pad:-pad,pad:-pad]= image\n",
    "    return im_pad"
   ]
  },
  {
   "cell_type": "code",
   "execution_count": null,
   "metadata": {
    "collapsed": true
   },
   "outputs": [],
   "source": [
    "def preprocessing(image, mask,pad):\n",
    "    mask=normalize_mask(mask) #transforma a mascara em 0 e 1 para nao alterar os valores da imagem\n",
    "    c_verde=image[:,:,1] # seleciona o canal verde da imagem\n",
    "    inv=256-c_verde #inverte a imagem\n",
    "    img_inv=inv*mask #multiplica pela mascara para que elimine as bordas e todo o ruido que possa existir no background\n",
    "    le_img=padding(img_inv,pad)\n",
    "    return le_img"
   ]
  },
  {
   "cell_type": "code",
   "execution_count": null,
   "metadata": {
    "collapsed": true
   },
   "outputs": [],
   "source": [
    "c_verde=256-i_21[:,:,1]\n",
    "imshow(c_verde)"
   ]
  },
  {
   "cell_type": "code",
   "execution_count": null,
   "metadata": {
    "collapsed": true
   },
   "outputs": [],
   "source": [
    "print(c_verde[30:50,290:320])"
   ]
  },
  {
   "cell_type": "code",
   "execution_count": null,
   "metadata": {
    "collapsed": true
   },
   "outputs": [],
   "source": [
    "c_verd=1-i_21[:,:,1]\n",
    "imshow(c_verd)\n",
    "print(c_verd[30:50,290:320])"
   ]
  },
  {
   "cell_type": "code",
   "execution_count": null,
   "metadata": {
    "collapsed": true
   },
   "outputs": [],
   "source": [
    "print(i_21[:,:,1][30:50,290:320])"
   ]
  },
  {
   "cell_type": "code",
   "execution_count": null,
   "metadata": {
    "collapsed": true
   },
   "outputs": [],
   "source": [
    "imshow(preprocessing(i_21,ii_21,16))"
   ]
  },
  {
   "cell_type": "code",
   "execution_count": null,
   "metadata": {
    "collapsed": true
   },
   "outputs": [],
   "source": [
    "def bordas(image,mask,l,pad):\n",
    "    mask=padding(mask,pad)\n",
    "    image_p=image.copy()\n",
    "    mdp=int(l/2)\n",
    "    \n",
    "    for i in range(image.shape[0]-1):\n",
    "        for j in range(image.shape[1]-1):\n",
    "            counter=0\n",
    "            n_p=0\n",
    "            if ((mask[i,j-1]==0 and mask[i,j]>0)  or (mask[i-1,j]==0 and mask[i,j]>0)\n",
    "                or (mask[i,j+1]==0 and mask[i,j]>0) or (mask[i+1,j]==0 and mask[i,j]>0)):\n",
    "                for x in range(-l,l+1):\n",
    "                    for y in range (-l,l+1):\n",
    "                        if mask[i+x,j+y]>0:\n",
    "                            n_p=n_p+1\n",
    "                            counter=counter+image_p[i+x,j+y]\n",
    "                media=counter/n_p\n",
    "                for x in range(-l,l+1):\n",
    "                    for y in range (-l,l+1):\n",
    "                        if (mask[i+x,j+y]==0 or (mask[i+x-1,j+y]==0 and mask[i+x,j+y]>0)):\n",
    "                            image_p[i+x,j+y]=media\n",
    "    return image_p"
   ]
  },
  {
   "cell_type": "code",
   "execution_count": null,
   "metadata": {
    "collapsed": true
   },
   "outputs": [],
   "source": [
    "s_01=get_value_s0(i_21,ii_21,15,16)"
   ]
  },
  {
   "cell_type": "code",
   "execution_count": null,
   "metadata": {
    "collapsed": true
   },
   "outputs": [],
   "source": [
    "th_01=threshold(s_01,5)"
   ]
  },
  {
   "cell_type": "code",
   "execution_count": null,
   "metadata": {
    "collapsed": true
   },
   "outputs": [],
   "source": [
    "imshow(s_01)"
   ]
  },
  {
   "cell_type": "code",
   "execution_count": null,
   "metadata": {
    "collapsed": true
   },
   "outputs": [],
   "source": [
    "imshow(th_01)"
   ]
  },
  {
   "cell_type": "code",
   "execution_count": null,
   "metadata": {
    "collapsed": true
   },
   "outputs": [],
   "source": [
    "imsave('im_21_111',s_01)"
   ]
  },
  {
   "cell_type": "markdown",
   "metadata": {},
   "source": [
    "### Criação Dos Kernels"
   ]
  },
  {
   "cell_type": "code",
   "execution_count": null,
   "metadata": {
    "collapsed": true
   },
   "outputs": [],
   "source": [
    "def rotation(kernel):\n",
    "    mask=kernel.copy()\n",
    "    l=kernel.shape[0]\n",
    "    c=kernel.shape[1]\n",
    "    rotated_kernel=zeros((l,c))\n",
    "   \n",
    "    for i in range(l):\n",
    "        for j in range(c):\n",
    "            rotated_kernel[i,j]= mask[i,c-j-1] # espelha o kernel em relação ao eixo vertical   \n",
    "    return rotated_kernel"
   ]
  },
  {
   "cell_type": "code",
   "execution_count": null,
   "metadata": {
    "collapsed": true
   },
   "outputs": [],
   "source": [
    "def draw_line(p0,p1, kernel,l):\n",
    "    image= kernel.copy()\n",
    "    line = get_line(p0,p1,l)\n",
    "   \n",
    "    for n in range(line.shape[0]): \n",
    "        i= line[n,0]\n",
    "        j=line[n,1]    \n",
    "        image[i,j]=1 # substitui os pontos do kernel que correspondem à linha\n",
    "    return image\n",
    "    "
   ]
  },
  {
   "cell_type": "code",
   "execution_count": null,
   "metadata": {
    "collapsed": true
   },
   "outputs": [],
   "source": [
    "def get_line(p0,p1,l):\n",
    "    x0=int(p0[1]-1) # colunas correspondem as ordenas\n",
    "    y0=int(p0[0]-1) # linhas correspondem as abcissas\n",
    "    x1=int(p1[1]-1)\n",
    "    y1=int(p1[0]-1)\n",
    "    dif_x= x1-x0\n",
    "    dif_y= y1-y0\n",
    "    line=np.zeros((l,2),dtype = int)\n",
    "    index= 0\n",
    "    \n",
    "    if abs(dif_y) > abs(dif_x): # aproxima-se mais da vertical, ou seja, todas as linhas possuiem pelo menos um pixel\n",
    "        for y in range (y0+1):# percorre todas as linhas, de baixo para cima\n",
    "            x= round((dif_x/dif_y)*(y-y1) + x1)  #calcula o valor da coluna correspondente\n",
    "            line[index,:]=[y,x]  #adiciona o ponto à matriz que corresponde à linhas\n",
    "            index += 1 \n",
    "    else: #caso contrario a matriz possui as 15 posições todas ocupadas na horizontal, ou seja todas as colunas\n",
    "        for x in range (x1+1): #  percorre todas as colunas, da esquerda para a direita\n",
    "            y= round((dif_y/dif_x)*(x-x0) + y0) # calcula o calor da linha correspondente\n",
    "            line[index,:]=[y,x]  #adiciona o ponto à matriz que corresponde à linhas\n",
    "            index += 1 \n",
    "            \n",
    "    return line"
   ]
  },
  {
   "cell_type": "code",
   "execution_count": null,
   "metadata": {
    "collapsed": true
   },
   "outputs": [],
   "source": [
    "def kernel (theta, l):\n",
    "    kernel_c = np.zeros((l,l))\n",
    "    midpoint = (l-1)/2\n",
    "    if theta == 0:   # é uma linha\n",
    "        kernel_c[midpoint,:] = 1  \n",
    "    elif theta == (math.pi/2):  # é uma coluna\n",
    "        kernel_c[:, midpoint] = 1\n",
    "    else:\n",
    "        if theta <= (math.pi/4): #calculo cateto oposto\n",
    "            x0 = - midpoint \n",
    "            y0= round(x0*(sin(theta)/cos(theta))) \n",
    "            x1 = midpoint\n",
    "            y1= round(x1*(sin(theta)/cos(theta))) \n",
    "\n",
    "        else: #calculo cateto adjacente\n",
    "            y0=-int(midpoint)\n",
    "            x0= round(y0*(cos(theta)/sin(theta))) \n",
    "            y1= int(midpoint)\n",
    "            x1= round(y1*(cos(theta)/sin(theta))) \n",
    "        p0=[midpoint-y0+1, midpoint+x0+1] # ponto superior direito do kernel\n",
    "        p1= [midpoint-y1+1, midpoint+x1+1] #ponto inferior esquerdo do kernel\n",
    "        kernel_c=draw_line(p0,p1,kernel_c,l)\n",
    "    return kernel_c"
   ]
  },
  {
   "cell_type": "code",
   "execution_count": null,
   "metadata": {
    "collapsed": true
   },
   "outputs": [],
   "source": [
    "def get_line_detector(angulo,l):\n",
    "    theta= angulo*(math.pi/180)\n",
    "    if theta > (math.pi/2):\n",
    "        s_line = kernel((math.pi-theta),l)\n",
    "        line = rotation(s_line)\n",
    "    else:\n",
    "        line = kernel(theta,l)\n",
    "    return matrix(line)"
   ]
  },
  {
   "cell_type": "markdown",
   "metadata": {},
   "source": [
    "### Get S and S0"
   ]
  },
  {
   "cell_type": "code",
   "execution_count": null,
   "metadata": {
    "collapsed": true
   },
   "outputs": [],
   "source": [
    "def average_level(image, mask,l,pad):\n",
    "    mdp=int(l/2)\n",
    "    #mask_pad=padding(mask,pad)\n",
    "    mask_x = (1/(l*l))* ones((l,l))\n",
    "    avg = signal.correlate2d(image, mask_x, mode = 'same') #obtem o nivel medio das intensidades na vizinhança lxl\n",
    "    Feature_n=zeros((image.shape[0],image.shape[1])) \n",
    "    for i in range(mask.shape[0]):\n",
    "        for j in range(mask.shape[1]):\n",
    "            if mask[i,j]>0: \n",
    "                Feature_n[i,j] = avg[i,j] \n",
    "    return avg"
   ]
  },
  {
   "cell_type": "code",
   "execution_count": null,
   "metadata": {
    "collapsed": true
   },
   "outputs": [],
   "source": [
    "def get_line_detector_ortogonal(angulo,l):\n",
    "    midpoint = int((l-1)/2)\n",
    "    line_o=np.zeros((l,l))\n",
    "    if (angulo<=15 or angulo >150):\n",
    "        line_o[midpoint-1:midpoint+2,midpoint]=1 # angulo ortogonal 90º \n",
    "    elif (angulo>60 and angulo<=90):\n",
    "        line_o[midpoint, midpoint-1:midpoint+2]=1   # angulo ortogonal 0º\n",
    "    elif (angulo >15 and angulo <=60):\n",
    "        for i in range(-1,2):\n",
    "            line_o[midpoint+i,midpoint+i]=1 #angulo ortogonal 135º\n",
    "    elif (angulo>90 and angulo<=150):\n",
    "        for i in range(-1,2):\n",
    "            line_o[midpoint+i,midpoint-i]=1 #angulo ortogonal 45º\n",
    "    line=line_o/sum(line_o)\n",
    "    return array(line)"
   ]
  },
  {
   "cell_type": "code",
   "execution_count": null,
   "metadata": {
    "collapsed": true,
    "scrolled": true
   },
   "outputs": [],
   "source": [
    "for angulo in range(0,180,15):\n",
    "    line_k = get_line_detector(angulo,15)\n",
    "    print(line_k)"
   ]
  },
  {
   "cell_type": "code",
   "execution_count": null,
   "metadata": {
    "collapsed": true
   },
   "outputs": [],
   "source": [
    "for angulo in range(0,180,15):\n",
    "    line_k = get_line_detector(angulo,15)\n",
    "    print(line_k/sum(line_k))"
   ]
  },
  {
   "cell_type": "code",
   "execution_count": null,
   "metadata": {
    "collapsed": true,
    "scrolled": true
   },
   "outputs": [],
   "source": [
    "def get_value_l(image,l):\n",
    "    n=image.shape[0]\n",
    "    m=image.shape[1]\n",
    "    line_l= np.zeros((n,m))\n",
    "    img=zeros((n,m))\n",
    "\n",
    "    for angulo in range(0,180,15):\n",
    "        line_k = get_line_detector(angulo,15)\n",
    "        line=line_k/sum(line_k)\n",
    "        line_ls = signal.correlate2d(image, line, mode = 'same')\n",
    "        # compara o valor da linha obtida anteriormente com o valor obtido segundo a nova rotação\n",
    "        #o valor maior fica como a nova line strength (S(i,j))\n",
    "        line_l= maximum(line_l,line_ls)  # maximum retorna uma matriz com os maximos de cada           \n",
    "    return line_l"
   ]
  },
  {
   "cell_type": "code",
   "execution_count": null,
   "metadata": {
    "collapsed": true
   },
   "outputs": [],
   "source": [
    "def get_value_s(image,mask,l,pad):\n",
    "    img=bordas(preprocessing(image,mask,pad), mask,l,pad)\n",
    "    m=normalize_mask(padding(mask,pad))\n",
    "    feature_l= get_value_l(img,l)\n",
    "    feature_n=average_level(img,m,l,pad)\n",
    "    feature_s=(feature_l-feature_n)*m\n",
    "    return feature_s"
   ]
  },
  {
   "cell_type": "code",
   "execution_count": null,
   "metadata": {
    "collapsed": true,
    "scrolled": true
   },
   "outputs": [],
   "source": [
    "def get_value_s0(image,mask,l,pad):\n",
    "    img=bordas(preprocessing(image,mask,pad), mask,l,pad)\n",
    "    n=img.shape[0]\n",
    "    m=img.shape[1]\n",
    "    line_l= np.zeros((n,m))\n",
    "    line_s=zeros((n,m))\n",
    "    mdp=int(l/2)\n",
    "    m_n=normalize_mask(padding(mask,pad))\n",
    "    avg=average_level(img,m_n,l,pad)\n",
    "    x=0\n",
    "    print('starting s0...')\n",
    "    \n",
    "    for angulo in range(0,180,15):\n",
    "        line_k=get_line_detector(angulo,15)\n",
    "        line=line_k/sum(line_k)\n",
    "        line_ls=signal.correlate2d(img, line, mode = 'same')\n",
    "        # compara o valor da linha obtida anteriormente com o valor obtido segundo a nova rotação\n",
    "        #o valor maior fica como a nova line strength (S(i,j))\n",
    "        line_l= maximum(line_l,line_ls)  # maximum retorna uma matriz com os maximos de cada\n",
    "        \n",
    "        for i in range(n):\n",
    "            for j in range(m):\n",
    "                if m_n[i,j]>0:\n",
    "                    if line_l[i,j]==line_ls[i,j]:\n",
    "                        x=x+1\n",
    "                        kernel_l0=get_line_detector_ortogonal(angulo,l)\n",
    "                        #line_s[i,l]=sum(kernel_l0*(image[i-mdp:i+mdp+1,j-mdp:j+mdp+1]))\n",
    "                        a=sum(kernel_l0*(img[i-mdp:i+mdp+1,j-mdp:j+mdp+1]))\n",
    "                        line_s[i,j]=a                                    \n",
    "    image_s0=(line_s-avg)*m_n\n",
    "    return image_s0"
   ]
  },
  {
   "cell_type": "markdown",
   "metadata": {},
   "source": [
    " img=bordas(preprocessing(i_21,mascara(ii_21),14), ii_21,15,14)"
   ]
  },
  {
   "cell_type": "markdown",
   "metadata": {},
   "source": [
    "### Pos-Processing"
   ]
  },
  {
   "cell_type": "code",
   "execution_count": null,
   "metadata": {
    "collapsed": true
   },
   "outputs": [],
   "source": [
    "def threshold(image,th):\n",
    "    img_th=image.copy()\n",
    "    \n",
    "    for i in range(image.shape[0]):\n",
    "        for j in range (image.shape[1]):\n",
    "            if (img_th[i,j]>th):\n",
    "                img_th[i,j]=255\n",
    "            else: \n",
    "                img_th[i,j]=0\n",
    "    return img_th"
   ]
  },
  {
   "cell_type": "code",
   "execution_count": null,
   "metadata": {
    "collapsed": true
   },
   "outputs": [],
   "source": [
    "def normalize(image, mask):\n",
    "    n=image.shape[0]\n",
    "    m=image.shape[1]\n",
    "    normalized=np.ones((n,m))\n",
    "    pixel=image[mask>0]\n",
    "    mean=np.mean(pixel)\n",
    "    sd=np.std(pixel)\n",
    "    normalized [mask>0]= (pixel - mean)/sd\n",
    "    return normalized\n",
    "    "
   ]
  },
  {
   "cell_type": "markdown",
   "metadata": {},
   "source": [
    "### Metrics "
   ]
  },
  {
   "cell_type": "code",
   "execution_count": null,
   "metadata": {
    "collapsed": true
   },
   "outputs": [],
   "source": [
    "def axes(image_1, image_2, x, y):\n",
    "    fig, (ax1, ax2) = matplotlib.pylab.subplots(1,2, figsize = (16,10))\n",
    "    ax1.imshow(image_1)\n",
    "    ax1.set_title(str(x))\n",
    "    ax2.imshow(image_2)\n",
    "    ax2.set_title(str(y))"
   ]
  },
  {
   "cell_type": "code",
   "execution_count": null,
   "metadata": {
    "collapsed": true
   },
   "outputs": [],
   "source": [
    "def metrics(image,maskv,mask):\n",
    "    TP=0\n",
    "    FP=0\n",
    "    TN=0\n",
    "    FN=0\n",
    "    for i in range (image.shape[0]):\n",
    "        for j in range (image.shape[1]):\n",
    "            if mask[i,j]>0:\n",
    "                if maskv[i,j]==255: #O pixel deverá ser um vaso\n",
    "                    if image[i,j]==255: # O pixel foi segmentado como vaso\n",
    "                        TP+=1\n",
    "                    elif image[i,j]==0: # O pixel foi segmentado como background\n",
    "                        FN+=1\n",
    "                if maskv[i,j]==0: # O Pixel deverá ser background\n",
    "                    if image[i,j] == 255: #o pixel foi segmentado como vaso\n",
    "                        FP+=1\n",
    "                    if image[i,j]==0: # o pixel foi segmentado como background\n",
    "                        TN+=1\n",
    "    accuracy = round((((TP + TN) / (TP + TN + FP + FN)) * 100),2)\n",
    "    sensitive = round(((TP / (TP + FN)) * 100),2)\n",
    "    precision = round(((TP / (TN + FP)) * 100),2)\n",
    "    specificity = round(((TN / (TN + FP)) * 100),2)\n",
    "\n",
    "    metric_txt = open(\"metrics.txt\", \"w+\")\n",
    "    metric_txt.write(\"accuracy %f \\r\\n\" % (accuracy))\n",
    "    metric_txt.write(\"sensitive %f \\r\\n\" % (sensitive)) \n",
    "    metric_txt.write(\"precision %f \\r\\n\" % (precision)) \n",
    "    metric_txt.write(\"specificity %f \\r\\n\" % (specificity))     \n",
    "    metric_txt.close()\n",
    "    \n",
    "    \n",
    "                    \n",
    "    return (accuracy,sensitive, precision, specificity)"
   ]
  },
  {
   "cell_type": "code",
   "execution_count": null,
   "metadata": {
    "collapsed": true
   },
   "outputs": [],
   "source": [
    "a=matplotlib.pyplot.hist(s0_21[padding(mascara(i_21),16)>0], range(-5,10), label='Histograma da imagem normalizada')"
   ]
  },
  {
   "cell_type": "code",
   "execution_count": null,
   "metadata": {
    "collapsed": true,
    "scrolled": false
   },
   "outputs": [],
   "source": [
    "b=matplotlib.pyplot.hist(s0_21[padding(mascara(i_21),16)>0], range(-5,20), label='Histograma da imagem normal')"
   ]
  },
  {
   "cell_type": "code",
   "execution_count": null,
   "metadata": {
    "collapsed": true
   },
   "outputs": [],
   "source": [
    "axes(s_21,s0_21, 'S', 'S0')"
   ]
  },
  {
   "cell_type": "code",
   "execution_count": null,
   "metadata": {
    "collapsed": true
   },
   "outputs": [],
   "source": [
    "matplotlib.pyplot.hist(img1, range=(-5,10))"
   ]
  },
  {
   "cell_type": "code",
   "execution_count": null,
   "metadata": {
    "collapsed": true
   },
   "outputs": [],
   "source": [
    "s_01=get_value_s(i_01,ii_01,15,16) \n",
    "s0_01=get_value_s0(i_01,ii_01,15,16)\n",
    "th_01_1 = threshold(s_01, 4)\n",
    "th_01_2 = threshold(s_01, 5)\n",
    "axes(s_01, s0_01, 's', 's0')\n",
    "axes(th_01_1, th_01_2, 'Threshold = 4', 'Threshold = 5')"
   ]
  },
  {
   "cell_type": "code",
   "execution_count": null,
   "metadata": {
    "collapsed": true
   },
   "outputs": [],
   "source": [
    "s_01=get_value_s(i_01,ii_01,17,16)\n",
    "s0_01=get_value_s0(i_01,ii_01,17,16)\n",
    "th_01_1 = threshold(s_01, 4)\n",
    "th_01_2 = threshold(s_01, 5)\n",
    "axes(s_01, s0_01, 's', 's0')\n",
    "axes(th_01_1, th_01_2, 'Threshold = 4', 'Threshold = 5')"
   ]
  },
  {
   "cell_type": "code",
   "execution_count": null,
   "metadata": {
    "collapsed": true
   },
   "outputs": [],
   "source": [
    "s_01=get_value_s(i_01,ii_01,13,16)\n",
    "s0_01=get_value_s0(i_01,ii_01,13,16)\n",
    "th_01_1 = threshold(s_01, 4)\n",
    "th_01_2 = threshold(s_01, 5)\n",
    "axes(s_01, s0_01, 's', 's0')\n",
    "axes(th_01_1, th_01_2, 'Threshold = 4', 'Threshold = 5')"
   ]
  },
  {
   "cell_type": "code",
   "execution_count": null,
   "metadata": {
    "collapsed": true
   },
   "outputs": [],
   "source": [
    "s_02=get_value_s(i_02,ii_02,15,16)\n",
    "s0_02=get_value_s0(i_02,ii_02,15,16)\n",
    "th_02_1 = threshold(s_02, 4)\n",
    "th_02_2 = threshold(s_02, 5)\n",
    "axes(s_02, s0_02, 's', 's0')\n",
    "axes(th_02_1, th_02_2, 'Threshold = 4', 'Threshold = 5')"
   ]
  },
  {
   "cell_type": "code",
   "execution_count": null,
   "metadata": {
    "collapsed": true
   },
   "outputs": [],
   "source": [
    "s_02=get_value_s(i_02,ii_02,17,16)\n",
    "s0_02=get_value_s0(i_02,ii_02,17,16)\n",
    "th_02_1 = threshold(s_02, 4)\n",
    "th_02_2 = threshold(s_02, 5)\n",
    "axes(s_02, s0_02, 's', 's0')\n",
    "axes(th_02_1, th_02_2, 'Threshold = 4', 'Threshold = 5')"
   ]
  },
  {
   "cell_type": "code",
   "execution_count": null,
   "metadata": {
    "collapsed": true
   },
   "outputs": [],
   "source": [
    "s_02=get_value_s(i_02,ii_02,13,16)\n",
    "s0_02=get_value_s0(i_02,ii_02,13,16)\n",
    "th_02_1 = threshold(s_02, 4)\n",
    "th_02_2 = threshold(s_02, 5)\n",
    "axes(s_02, s0_02, 's', 's0')\n",
    "axes(th_02_1, th_02_2, 'Threshold = 4', 'Threshold = 5')"
   ]
  },
  {
   "cell_type": "code",
   "execution_count": null,
   "metadata": {
    "collapsed": true
   },
   "outputs": [],
   "source": [
    "s_03=get_value_s(i_03,ii_03,15,16)\n",
    "s0_03=get_value_s0(i_03,ii_03,15,16)\n",
    "th_03_1 = threshold(s_03, 4)\n",
    "th_03_2 = threshold(s_03, 5)\n",
    "axes(s_03, s0_03, 's', 's0')\n",
    "axes(th_03_1, th_03_2, 'Threshold = 4', 'Threshold = 5')"
   ]
  },
  {
   "cell_type": "code",
   "execution_count": null,
   "metadata": {
    "collapsed": true
   },
   "outputs": [],
   "source": [
    "s_03=get_value_s(i_03,ii_03,17,16)\n",
    "s0_03=get_value_s0(i_03,ii_03,17,16)\n",
    "th_03_1 = threshold(s_03, 4)\n",
    "th_03_2 = threshold(s_03, 5)\n",
    "axes(s_03, s0_03, 's', 's0')\n",
    "axes(th_03_1, th_03_2, 'Threshold = 4', 'Threshold = 5')"
   ]
  },
  {
   "cell_type": "code",
   "execution_count": null,
   "metadata": {
    "collapsed": true
   },
   "outputs": [],
   "source": [
    "s_03=get_value_s(i_03,ii_03,13,16)\n",
    "s0_03=get_value_s0(i_03,ii_03,13,16)\n",
    "th_03_1 = threshold(s_03, 4)\n",
    "th_03_2 = threshold(s_03, 5)\n",
    "axes(s_03, s0_03, 's', 's0')\n",
    "axes(th_03_1, th_03_2, 'Threshold = 4', 'Threshold = 5')"
   ]
  },
  {
   "cell_type": "code",
   "execution_count": null,
   "metadata": {
    "collapsed": true
   },
   "outputs": [],
   "source": [
    "s_04=get_value_s(i_04,ii_04,15,16)\n",
    "s0_04=get_value_s0(i_04,ii_04,15,16)\n",
    "th_04_1 = threshold(s_04, 4)\n",
    "th_04_2 = threshold(s_04, 5)\n",
    "axes(s_04, s0_04, 's', 's0')\n",
    "axes(th_04_1, th_04_2, 'Threshold = 4', 'Threshold = 5')"
   ]
  },
  {
   "cell_type": "code",
   "execution_count": null,
   "metadata": {
    "collapsed": true
   },
   "outputs": [],
   "source": [
    "s_04=get_value_s(i_04,ii_04,17,16)\n",
    "s0_04=get_value_s0(i_04,ii_04,17,16)\n",
    "th_04_1 = threshold(s_04, 4)\n",
    "th_04_2 = threshold(s_04, 5)\n",
    "axes(s_04, s0_04, 's', 's0')\n",
    "axes(th_04_1, th_04_2, 'Threshold = 4', 'Threshold = 5')"
   ]
  },
  {
   "cell_type": "code",
   "execution_count": null,
   "metadata": {
    "collapsed": true
   },
   "outputs": [],
   "source": [
    "s_04=get_value_s(i_04,ii_04,13,16)\n",
    "s0_04=get_value_s0(i_04,ii_04,13,16)\n",
    "th_04_1 = threshold(s_04, 4)\n",
    "th_04_2 = threshold(s_04, 5)\n",
    "axes(s_04, s0_04, 's', 's0')\n",
    "axes(th_04_1, th_04_2, 'Threshold = 4', 'Threshold = 5')"
   ]
  },
  {
   "cell_type": "code",
   "execution_count": null,
   "metadata": {
    "collapsed": true
   },
   "outputs": [],
   "source": [
    "s_05=get_value_s(i_05,ii_05,15,16)\n",
    "s0_05=get_value_s0(i_05,ii_05,15,16)\n",
    "th_05_1 = threshold(s_05, 4)\n",
    "th_05_2 = threshold(s_05, 5)\n",
    "axes(s_05, s0_05, 's', 's0')\n",
    "axes(th_05_1, th_05_2, 'Threshold = 4', 'Threshold = 5')"
   ]
  },
  {
   "cell_type": "code",
   "execution_count": null,
   "metadata": {
    "collapsed": true
   },
   "outputs": [],
   "source": [
    "s_05=get_value_s(i_05,ii_05,17,16)\n",
    "s0_05=get_value_s0(i_05,ii_05,17,16)\n",
    "th_05_1 = threshold(s_05, 4)\n",
    "th_05_2 = threshold(s_05, 5)\n",
    "axes(s_05, s0_05, 's', 's0')\n",
    "axes(th_05_1, th_05_2, 'Threshold = 4', 'Threshold = 5')"
   ]
  },
  {
   "cell_type": "code",
   "execution_count": null,
   "metadata": {
    "collapsed": true
   },
   "outputs": [],
   "source": [
    "s_05=get_value_s(i_05,ii_05,13,16)\n",
    "s0_05=get_value_s0(i_05,ii_05,13,16)\n",
    "th_05_1 = threshold(s_05, 4)\n",
    "th_05_2 = threshold(s_05, 5)\n",
    "axes(s_05, s0_05, 's', 's0')\n",
    "axes(th_05_1, th_05_2, 'Threshold = 4', 'Threshold = 5')"
   ]
  },
  {
   "cell_type": "code",
   "execution_count": null,
   "metadata": {
    "collapsed": true
   },
   "outputs": [],
   "source": [
    "s_06=get_value_s(i_06,ii_06,15,16)\n",
    "s0_06=get_value_s0(i_06,ii_06,15,16)\n",
    "th_06_1 = threshold(s_06, 4)\n",
    "th_06_2 = threshold(s_06, 5)\n",
    "axes(s_06, s0_06, 's', 's0')\n",
    "axes(th_06_1, th_06_2, 'Threshold = 4', 'Threshold = 5')"
   ]
  },
  {
   "cell_type": "code",
   "execution_count": null,
   "metadata": {
    "collapsed": true
   },
   "outputs": [],
   "source": [
    "s_06=get_value_s(i_06,ii_06,17,16)\n",
    "s0_06=get_value_s0(i_06,ii_06,17,16)\n",
    "th_06_1 = threshold(s_06, 4)\n",
    "th_06_2 = threshold(s_06, 5)\n",
    "axes(s_06, s0_06, 's', 's0')\n",
    "axes(th_06_1, th_06_2, 'Threshold = 4', 'Threshold = 5')"
   ]
  },
  {
   "cell_type": "code",
   "execution_count": null,
   "metadata": {
    "collapsed": true
   },
   "outputs": [],
   "source": [
    "s_06=get_value_s(i_06,ii_06,13,16)\n",
    "s0_06=get_value_s0(i_06,ii_06,13,16)\n",
    "th_06_1 = threshold(s_06, 4)\n",
    "th_06_2 = threshold(s_06, 5)\n",
    "axes(s_06, s0_06, 's', 's0')\n",
    "axes(th_06_1, th_06_2, 'Threshold = 4', 'Threshold = 5')"
   ]
  },
  {
   "cell_type": "code",
   "execution_count": null,
   "metadata": {
    "collapsed": true
   },
   "outputs": [],
   "source": [
    "s_07=get_value_s(i_07,ii_07,15,16)\n",
    "s0_07=get_value_s0(i_07,ii_07,15,16)\n",
    "th_07_1 = threshold(s_07, 4)\n",
    "th_07_2 = threshold(s_07, 5)\n",
    "axes(s_07, s0_07, 's', 's0')\n",
    "axes(th_07_1, th_07_2, 'Threshold = 4', 'Threshold = 5')"
   ]
  },
  {
   "cell_type": "code",
   "execution_count": null,
   "metadata": {
    "collapsed": true
   },
   "outputs": [],
   "source": [
    "s_07=get_value_s(i_07,ii_07,17,16)\n",
    "s0_07=get_value_s0(i_07,ii_07,17,16)\n",
    "th_07_1 = threshold(s_07, 4)\n",
    "th_07_2 = threshold(s_07, 5)\n",
    "axes(s_07, s0_07, 's', 's0')\n",
    "axes(th_07_1, th_07_2, 'Threshold = 4', 'Threshold = 5')"
   ]
  },
  {
   "cell_type": "code",
   "execution_count": null,
   "metadata": {
    "collapsed": true
   },
   "outputs": [],
   "source": [
    "s_07=get_value_s(i_07,ii_07,13,16)\n",
    "s0_07=get_value_s0(i_07,ii_07,13,16)\n",
    "th_07_1 = threshold(s_07, 4)\n",
    "th_07_2 = threshold(s_07, 5)\n",
    "axes(s_07, s0_07, 's', 's0')\n",
    "axes(th_07_1, th_07_2, 'Threshold = 4', 'Threshold = 5')"
   ]
  },
  {
   "cell_type": "code",
   "execution_count": null,
   "metadata": {
    "collapsed": true
   },
   "outputs": [],
   "source": [
    "s_08=get_value_s(i_08,ii_08,15,16)\n",
    "s0_08=get_value_s0(i_08,ii_08,15,16)\n",
    "th_08_1 = threshold(s_08, 4)\n",
    "th_08_2 = threshold(s_08, 5)\n",
    "axes(s_08, s0_08, 's', 's0')\n",
    "axes(th_08_1, th_08_2, 'Threshold = 4', 'Threshold = 5')"
   ]
  },
  {
   "cell_type": "code",
   "execution_count": null,
   "metadata": {
    "collapsed": true
   },
   "outputs": [],
   "source": [
    "s_08=get_value_s(i_08,ii_08,17,16)\n",
    "s0_08=get_value_s0(i_08,ii_08,17,16)\n",
    "th_08_1 = threshold(s_08, 4)\n",
    "th_08_2 = threshold(s_08, 5)\n",
    "axes(s_08, s0_08, 's', 's0')\n",
    "axes(th_08_1, th_08_2, 'Threshold = 4', 'Threshold = 5')"
   ]
  },
  {
   "cell_type": "code",
   "execution_count": null,
   "metadata": {
    "collapsed": true
   },
   "outputs": [],
   "source": [
    "s_08=get_value_s(i_08,ii_08,13,16)\n",
    "s0_08=get_value_s0(i_08,ii_08,13,16)\n",
    "th_08_1 = threshold(s_08, 4)\n",
    "th_08_2 = threshold(s_08, 5)\n",
    "axes(s_08, s0_08, 's', 's0')\n",
    "axes(th_08_1, th_08_2, 'Threshold = 4', 'Threshold = 5')"
   ]
  },
  {
   "cell_type": "code",
   "execution_count": null,
   "metadata": {
    "collapsed": true
   },
   "outputs": [],
   "source": [
    "s_09=get_value_s(i_09,ii_09,15,16)\n",
    "s0_09=get_value_s0(i_09,ii_09,15,16)\n",
    "th_09_1 = threshold(s_09, 4)\n",
    "th_09_2 = threshold(s_09, 5)\n",
    "axes(s_09, s0_09, 's', 's0')\n",
    "axes(th_09_1, th_09_2, 'Threshold = 4', 'Threshold = 5')"
   ]
  },
  {
   "cell_type": "code",
   "execution_count": null,
   "metadata": {
    "collapsed": true
   },
   "outputs": [],
   "source": [
    "s_09=get_value_s(i_09,ii_09,17,16)\n",
    "s0_09=get_value_s0(i_09,ii_09,17,16)\n",
    "th_09_1 = threshold(s_09, 4)\n",
    "th_09_2 = threshold(s_09, 5)\n",
    "axes(s_09, s0_09, 's', 's0')\n",
    "axes(th_09_1, th_09_2, 'Threshold = 4', 'Threshold = 5')"
   ]
  },
  {
   "cell_type": "code",
   "execution_count": null,
   "metadata": {
    "collapsed": true
   },
   "outputs": [],
   "source": [
    "s_09=get_value_s(i_09,ii_09,13,16)\n",
    "s0_09=get_value_s0(i_09,ii_09,13,16)\n",
    "th_09_1 = threshold(s_09, 4)\n",
    "th_09_2 = threshold(s_09, 5)\n",
    "axes(s_09, s0_09, 's', 's0')\n",
    "axes(th_09_1, th_09_2, 'Threshold = 4', 'Threshold = 5')"
   ]
  },
  {
   "cell_type": "code",
   "execution_count": null,
   "metadata": {
    "collapsed": true
   },
   "outputs": [],
   "source": [
    "s_10=get_value_s(i_10,ii_10,15,16)\n",
    "s0_10=get_value_s0(i_10,ii_10,15,16)\n",
    "th_10_1 = threshold(s_10, 4)\n",
    "th_10_2 = threshold(s_10, 5)\n",
    "axes(s_10, s0_10, 's', 's0')\n",
    "axes(th_10_1, th_10_2, 'Threshold = 4', 'Threshold = 5')"
   ]
  },
  {
   "cell_type": "code",
   "execution_count": null,
   "metadata": {
    "collapsed": true
   },
   "outputs": [],
   "source": [
    "s_10=get_value_s(i_10,ii_10,17,16)\n",
    "s0_10=get_value_s0(i_10,ii_10,17,16)\n",
    "th_10_1 = threshold(s_10, 4)\n",
    "th_10_2 = threshold(s_10, 5)\n",
    "axes(s_10, s0_10, 's', 's0')\n",
    "axes(th_10_1, th_10_2, 'Threshold = 4', 'Threshold = 5')"
   ]
  },
  {
   "cell_type": "code",
   "execution_count": null,
   "metadata": {
    "collapsed": true
   },
   "outputs": [],
   "source": [
    "s_10=get_value_s(i_10,ii_10,13,16)\n",
    "s0_10=get_value_s0(i_10,ii_10,13,16)\n",
    "th_10_1 = threshold(s_10, 4)\n",
    "th_10_2 = threshold(s_10, 5)\n",
    "axes(s_10, s0_10, 's', 's0')\n",
    "axes(th_10_1, th_10_2, 'Threshold = 4', 'Threshold = 5')"
   ]
  },
  {
   "cell_type": "code",
   "execution_count": null,
   "metadata": {
    "collapsed": true
   },
   "outputs": [],
   "source": [
    "s_11=get_value_s(i_11,ii_11,15,16)\n",
    "s0_11=get_value_s0(i_11,ii_11,15,16)\n",
    "th_11_1 = threshold(s_11, 4)\n",
    "th_11_2 = threshold(s_11, 5)\n",
    "axes(s_11, s0_11, 's', 's0')\n",
    "axes(th_11_1, th_11_2, 'Threshold = 4', 'Threshold = 5')"
   ]
  },
  {
   "cell_type": "code",
   "execution_count": null,
   "metadata": {
    "collapsed": true
   },
   "outputs": [],
   "source": [
    "s_11=get_value_s(i_11,ii_11,17,16)\n",
    "s0_11=get_value_s0(i_11,ii_11,17,16)\n",
    "th_11_1 = threshold(s_11, 4)\n",
    "th_11_2 = threshold(s_11, 5)\n",
    "axes(s_11, s0_11, 's', 's0')\n",
    "axes(th_11_1, th_11_2, 'Threshold = 4', 'Threshold = 5')"
   ]
  },
  {
   "cell_type": "code",
   "execution_count": null,
   "metadata": {
    "collapsed": true
   },
   "outputs": [],
   "source": [
    "s_11=get_value_s(i_11,ii_11,13,16)\n",
    "s0_11=get_value_s0(i_11,ii_11,13,16)\n",
    "th_11_1 = threshold(s_11, 4)\n",
    "th_11_2 = threshold(s_11, 5)\n",
    "axes(s_11, s0_11, 's', 's0')\n",
    "axes(th_11_1, th_11_2, 'Threshold = 4', 'Threshold = 5')"
   ]
  },
  {
   "cell_type": "code",
   "execution_count": null,
   "metadata": {
    "collapsed": true
   },
   "outputs": [],
   "source": [
    "s_12=get_value_s(i_12,ii_12,15,16)\n",
    "s0_12=get_value_s0(i_12,ii_12,15,16)\n",
    "th_12_1 = threshold(s_12, 4)\n",
    "th_12_2 = threshold(s_12, 5)\n",
    "axes(s_12, s0_12, 's', 's0')\n",
    "axes(th_12_1, th_12_2, 'Threshold = 4', 'Threshold = 5')"
   ]
  },
  {
   "cell_type": "code",
   "execution_count": null,
   "metadata": {
    "collapsed": true
   },
   "outputs": [],
   "source": [
    "s_12=get_value_s(i_12,ii_12,17,16)\n",
    "s0_12=get_value_s0(i_12,ii_12,17,16)\n",
    "th_12_1 = threshold(s_12, 4)\n",
    "th_12_2 = threshold(s_12, 5)\n",
    "axes(s_12, s0_12, 's', 's0')\n",
    "axes(th_12_1, th_12_2, 'Threshold = 4', 'Threshold = 5')"
   ]
  },
  {
   "cell_type": "code",
   "execution_count": null,
   "metadata": {
    "collapsed": true
   },
   "outputs": [],
   "source": [
    "s_12=get_value_s(i_12,ii_12,13,16)\n",
    "s0_12=get_value_s0(i_12,ii_12,13,16)\n",
    "th_12_1 = threshold(s_12, 4)\n",
    "th_12_2 = threshold(s_12, 5)\n",
    "axes(s_12, s0_12, 's', 's0')\n",
    "axes(th_12_1, th_12_2, 'Threshold = 4', 'Threshold = 5')"
   ]
  },
  {
   "cell_type": "code",
   "execution_count": null,
   "metadata": {
    "collapsed": true
   },
   "outputs": [],
   "source": [
    "s_13=get_value_s(i_13,ii_13,15,16)\n",
    "s0_13=get_value_s0(i_13,ii_13,15,16)\n",
    "th_13_1 = threshold(s_13, 4)\n",
    "th_13_2 = threshold(s_13, 5)\n",
    "axes(s_13, s0_13, 's', 's0')\n",
    "axes(th_13_1, th_13_2, 'Threshold = 4', 'Threshold = 5')"
   ]
  },
  {
   "cell_type": "code",
   "execution_count": null,
   "metadata": {
    "collapsed": true
   },
   "outputs": [],
   "source": [
    "s_13=get_value_s(i_13,ii_13,17,16)\n",
    "s0_13=get_value_s0(i_13,ii_13,17,16)\n",
    "th_13_1 = threshold(s_13, 4)\n",
    "th_13_2 = threshold(s_13, 5)\n",
    "axes(s_13, s0_13, 's', 's0')\n",
    "axes(th_13_1, th_13_2, 'Threshold = 4', 'Threshold = 5')"
   ]
  },
  {
   "cell_type": "code",
   "execution_count": null,
   "metadata": {
    "collapsed": true
   },
   "outputs": [],
   "source": [
    "s_13=get_value_s(i_13,ii_13,13,16)\n",
    "s0_13=get_value_s0(i_13,ii_13,13,16)\n",
    "th_13_1 = threshold(s_13, 4)\n",
    "th_13_2 = threshold(s_13, 5)\n",
    "axes(s_13, s0_13, 's', 's0')\n",
    "axes(th_13_1, th_13_2, 'Threshold = 4', 'Threshold = 5')"
   ]
  },
  {
   "cell_type": "code",
   "execution_count": null,
   "metadata": {
    "collapsed": true
   },
   "outputs": [],
   "source": [
    "s_14=get_value_s(i_14,ii_14,15,20)\n",
    "s0_14=get_value_s0(i_14,ii_14,15,20)\n",
    "th_14_1 = threshold(s_14, 4)\n",
    "th_14 = threshold(s_14, 5)\n",
    "axes(s_14, s0_14, 's', 's0')\n",
    "axes(th_14_1, th_14_2, 'Threshold = 4', 'Threshold = 5')"
   ]
  },
  {
   "cell_type": "code",
   "execution_count": null,
   "metadata": {
    "collapsed": true
   },
   "outputs": [],
   "source": [
    "s_14=get_value_s(i_14,ii_14,17,20)\n",
    "s0_14=get_value_s0(i_14,ii_14,17,20)\n",
    "th_14_1 = threshold(s_14, 4)\n",
    "th_14 = threshold(s_14, 5)\n",
    "axes(s_14, s0_14, 's', 's0')\n",
    "axes(th_14_1, th_14_2, 'Threshold = 4', 'Threshold = 5')"
   ]
  },
  {
   "cell_type": "code",
   "execution_count": null,
   "metadata": {
    "collapsed": true
   },
   "outputs": [],
   "source": [
    "s_14=get_value_s(i_14,ii_14,13,20)\n",
    "s0_14=get_value_s0(i_14,ii_14,13,20)\n",
    "th_14_1 = threshold(s_14, 4)\n",
    "th_14 = threshold(s_14, 5)\n",
    "axes(s_14, s0_14, 's', 's0')\n",
    "axes(th_14_1, th_14_2, 'Threshold = 4', 'Threshold = 5')"
   ]
  },
  {
   "cell_type": "code",
   "execution_count": null,
   "metadata": {
    "collapsed": true
   },
   "outputs": [],
   "source": [
    "s_15=get_value_s(i_15,ii_15,15,16)\n",
    "s0_15=get_value_s0(i_15,ii_15,15,16)\n",
    "th_15_1 = threshold(s_15, 4)\n",
    "th_15_2 = threshold(s_15, 5)\n",
    "axes(s_15, s0_15, 's', 's0')\n",
    "axes(th_15_1, th_15_2, 'Threshold = 4', 'Threshold = 5')"
   ]
  },
  {
   "cell_type": "code",
   "execution_count": null,
   "metadata": {
    "collapsed": true
   },
   "outputs": [],
   "source": [
    "s_15=get_value_s(i_15,ii_15,17,16)\n",
    "s0_15=get_value_s0(i_15,ii_15,17,16)\n",
    "th_15_1 = threshold(s_15, 4)\n",
    "th_15_2 = threshold(s_15, 5)\n",
    "axes(s_15, s0_15, 's', 's0')\n",
    "axes(th_15_1, th_15_2, 'Threshold = 4', 'Threshold = 5')"
   ]
  },
  {
   "cell_type": "code",
   "execution_count": null,
   "metadata": {
    "collapsed": true
   },
   "outputs": [],
   "source": [
    "s_15=get_value_s(i_15,ii_15,13,16)\n",
    "s0_15=get_value_s0(i_15,ii_15,13,16)\n",
    "th_15_1 = threshold(s_15, 4)\n",
    "th_15_2 = threshold(s_15, 5)\n",
    "axes(s_15, s0_15, 's', 's0')\n",
    "axes(th_15_1, th_15_2, 'Threshold = 4', 'Threshold = 5')"
   ]
  },
  {
   "cell_type": "code",
   "execution_count": null,
   "metadata": {
    "collapsed": true
   },
   "outputs": [],
   "source": [
    "s_16=get_value_s(i_16,ii_16,15,16)\n",
    "s0_16=get_value_s0(i_16,ii_16,15,16)\n",
    "th_16_1 = threshold(s_16, 4)\n",
    "th_16_2 = threshold(s_16, 5)\n",
    "axes(s_16, s0_16, 's', 's0')\n",
    "axes(th_16_1, th_16_2, 'Threshold = 4', 'Threshold = 5')"
   ]
  },
  {
   "cell_type": "code",
   "execution_count": null,
   "metadata": {
    "collapsed": true
   },
   "outputs": [],
   "source": [
    "s_16=get_value_s(i_16,ii_16,17,16)\n",
    "s0_16=get_value_s0(i_16,ii_16,17,16)\n",
    "th_16_1 = threshold(s_16, 4)\n",
    "th_16_2 = threshold(s_16, 5)\n",
    "axes(s_16, s0_16, 's', 's0')\n",
    "axes(th_16_1, th_16_2, 'Threshold = 4', 'Threshold = 5')"
   ]
  },
  {
   "cell_type": "code",
   "execution_count": null,
   "metadata": {
    "collapsed": true
   },
   "outputs": [],
   "source": [
    "s_16=get_value_s(i_16,ii_16,13,16)\n",
    "s0_16=get_value_s0(i_16,ii_16,13,16)\n",
    "th_16_1 = threshold(s_16, 4)\n",
    "th_16_2 = threshold(s_16, 5)\n",
    "axes(s_16, s0_16, 's', 's0')\n",
    "axes(th_16_1, th_16_2, 'Threshold = 4', 'Threshold = 5')"
   ]
  },
  {
   "cell_type": "code",
   "execution_count": null,
   "metadata": {
    "collapsed": true
   },
   "outputs": [],
   "source": [
    "s_17=get_value_s(i_17,ii_17,15,16)\n",
    "s0_17=get_value_s0(i_17,ii_17,15,16)\n",
    "th_17_1 = threshold(s_17, 4)\n",
    "th_17_2 = threshold(s_17, 5)\n",
    "axes( s0_17, 's', 's0')\n",
    "axes(th_17_1, th_17_2, 'Threshold = 4', 'Threshold = 5')"
   ]
  },
  {
   "cell_type": "code",
   "execution_count": null,
   "metadata": {
    "collapsed": true
   },
   "outputs": [],
   "source": [
    "s_17=get_value_s(i_17,ii_17,17,16)\n",
    "s0_17=get_value_s0(i_17,ii_17,17,16)\n",
    "th_17_1 = threshold(s_17, 4)\n",
    "th_17_2 = threshold(s_17, 5)\n",
    "axes( s0_17, 's', 's0')\n",
    "axes(th_17_1, th_17_2, 'Threshold = 4', 'Threshold = 5')"
   ]
  },
  {
   "cell_type": "code",
   "execution_count": null,
   "metadata": {
    "collapsed": true
   },
   "outputs": [],
   "source": [
    "s_17=get_value_s(i_17,ii_17,13,16)\n",
    "s0_17=get_value_s0(i_17,ii_17,13,16)\n",
    "th_17_1 = threshold(s_17, 4)\n",
    "th_17_2 = threshold(s_17, 5)\n",
    "axes( s0_17, 's', 's0')\n",
    "axes(th_17_1, th_17_2, 'Threshold = 4', 'Threshold = 5')"
   ]
  },
  {
   "cell_type": "code",
   "execution_count": null,
   "metadata": {
    "collapsed": true
   },
   "outputs": [],
   "source": [
    "s_18=get_value_s(i_18,ii_18,15,16)\n",
    "s0_18=get_value_s0(i_18,ii_18,15,16)\n",
    "th_18_1 = threshold(s_18, 4)\n",
    "th_18_2 = threshold(s_18, 5)\n",
    "axes(s_18, s0_18, 's', 's0')\n",
    "axes(th_18_1, th_18_2, 'Threshold = 4', 'Threshold = 5')"
   ]
  },
  {
   "cell_type": "code",
   "execution_count": null,
   "metadata": {
    "collapsed": true
   },
   "outputs": [],
   "source": [
    "s_18=get_value_s(i_18,ii_18,17,16)\n",
    "s0_18=get_value_s0(i_18,ii_18,17,16)\n",
    "th_18_1 = threshold(s_18, 4)\n",
    "th_18_2 = threshold(s_18, 5)\n",
    "axes(s_18, s0_18, 's', 's0')\n",
    "axes(th_18_1, th_18_2, 'Threshold = 4', 'Threshold = 5')"
   ]
  },
  {
   "cell_type": "code",
   "execution_count": null,
   "metadata": {
    "collapsed": true
   },
   "outputs": [],
   "source": [
    "s_18=get_value_s(i_18,ii_18,13,16)\n",
    "s0_18=get_value_s0(i_18,ii_18,13,16)\n",
    "th_18_1 = threshold(s_18, 4)\n",
    "th_18_2 = threshold(s_18, 5)\n",
    "axes(s_18, s0_18, 's', 's0')\n",
    "axes(th_18_1, th_18_2, 'Threshold = 4', 'Threshold = 5')"
   ]
  },
  {
   "cell_type": "code",
   "execution_count": null,
   "metadata": {
    "collapsed": true
   },
   "outputs": [],
   "source": [
    "s_19=get_value_s(i_19,ii_19,15,16)\n",
    "s0_19=get_value_s0(i_19,ii_19,15,16)\n",
    "th_19_1 = threshold(s_19, 4)\n",
    "th_19_2 = threshold(s_19, 5)\n",
    "axes(s_19, s0_19, 's', 's0')\n",
    "axes(th_19_1, th_19_2, 'Threshold = 4', 'Threshold = 5')"
   ]
  },
  {
   "cell_type": "code",
   "execution_count": null,
   "metadata": {
    "collapsed": true
   },
   "outputs": [],
   "source": [
    "s_19=get_value_s(i_19,ii_19,17,16)\n",
    "s0_19=get_value_s0(i_19,ii_19,17,16)\n",
    "th_19_1 = threshold(s_19, 4)\n",
    "th_19_2 = threshold(s_19, 5)\n",
    "axes(s_19, s0_19, 's', 's0')\n",
    "axes(th_19_1, th_19_2, 'Threshold = 4', 'Threshold = 5')"
   ]
  },
  {
   "cell_type": "code",
   "execution_count": null,
   "metadata": {
    "collapsed": true
   },
   "outputs": [],
   "source": [
    "s_19=get_value_s(i_19,ii_19,13,16)\n",
    "s0_19=get_value_s0(i_19,ii_19,13,16)\n",
    "th_19_1 = threshold(s_19, 4)\n",
    "th_19_2 = threshold(s_19, 5)\n",
    "axes(s_19, s0_19, 's', 's0')\n",
    "axes(th_19_1, th_19_2, 'Threshold = 4', 'Threshold = 5')"
   ]
  },
  {
   "cell_type": "code",
   "execution_count": null,
   "metadata": {
    "collapsed": true
   },
   "outputs": [],
   "source": [
    "s_20=get_value_s(i_20,ii_20,15,16)\n",
    "s0_20=get_value_s0(i_20,ii_20,15,16)\n",
    "th_20_1 = threshold(s_20, 4)\n",
    "th_20_2 = threshold(s_20, 5)\n",
    "axes(s_20, s0_20, 's', 's0')\n",
    "axes(th_20_1, th_20_2, 'Threshold = 4', 'Threshold = 5')"
   ]
  },
  {
   "cell_type": "code",
   "execution_count": null,
   "metadata": {
    "collapsed": true
   },
   "outputs": [],
   "source": [
    "s_20=get_value_s(i_20,ii_20,17,16)\n",
    "s0_20=get_value_s0(i_20,ii_20,17,16)\n",
    "th_20_1 = threshold(s_20, 4)\n",
    "th_20_2 = threshold(s_20, 5)\n",
    "axes(s_20, s0_20, 's', 's0')\n",
    "axes(th_20_1, th_20_2, 'Threshold = 4', 'Threshold = 5')"
   ]
  },
  {
   "cell_type": "code",
   "execution_count": null,
   "metadata": {
    "collapsed": true
   },
   "outputs": [],
   "source": [
    "s_20=get_value_s(i_20,ii_20,13,16)\n",
    "s0_20=get_value_s0(i_20,ii_20,13,16)\n",
    "th_20_1 = threshold(s_20, 4)\n",
    "th_20_2 = threshold(s_20, 5)\n",
    "axes(s_20, s0_20, 's', 's0')\n",
    "axes(th_20_1, th_20_2, 'Threshold = 4', 'Threshold = 5')"
   ]
  },
  {
   "cell_type": "code",
   "execution_count": null,
   "metadata": {
    "collapsed": true
   },
   "outputs": [],
   "source": [
    "s_21=get_value_s(i_21,ii_21,15,16)\n",
    "s0_21=get_value_s0(i_21,ii_21,15,16)\n",
    "th_21_1 = threshold(s_21, 4)\n",
    "th_21_2 = threshold(s_21, 5)\n",
    "axes(s_21, s0_21, 's', 's0')\n",
    "axes(th_21_1, th_21_2, 'Threshold = 4', 'Threshold = 5')"
   ]
  },
  {
   "cell_type": "code",
   "execution_count": null,
   "metadata": {
    "collapsed": true
   },
   "outputs": [],
   "source": [
    "s_21=get_value_s(i_21,ii_21,17,16)\n",
    "s0_21=get_value_s0(i_21,ii_21,17,16)\n",
    "th_21_1 = threshold(s_21, 4)\n",
    "th_21_2 = threshold(s_21, 5)\n",
    "axes(s_21, s0_21, 's', 's0')\n",
    "axes(th_21_1, th_21_2, 'Threshold = 4', 'Threshold = 5')"
   ]
  },
  {
   "cell_type": "code",
   "execution_count": null,
   "metadata": {
    "collapsed": true
   },
   "outputs": [],
   "source": [
    "s_21=get_value_s(i_21,ii_21,13,16)\n",
    "s0_21=get_value_s0(i_21,ii_21,13,16)\n",
    "th_21_1 = threshold(s_21, 4)\n",
    "th_21_2 = threshold(s_21, 5)\n",
    "axes(s_21, s0_21, 's', 's0')\n",
    "axes(th_21_1, th_21_2, 'Threshold = 4', 'Threshold = 5')"
   ]
  },
  {
   "cell_type": "code",
   "execution_count": null,
   "metadata": {
    "collapsed": true
   },
   "outputs": [],
   "source": [
    "s_22=get_value_s(i_22,ii_22,15,16)\n",
    "s0_22=get_value_s0(i_22,ii_22,15,16)\n",
    "th_22_1 = threshold(s_22, 4)\n",
    "th_22_2 = threshold(s_22, 5)\n",
    "axes(s_22, s0_22, 's', 's0')\n",
    "axes(th_22_1, th_22_2, 'Threshold = 4', 'Threshold = 5')"
   ]
  },
  {
   "cell_type": "code",
   "execution_count": null,
   "metadata": {
    "collapsed": true
   },
   "outputs": [],
   "source": [
    "s_22=get_value_s(i_22,ii_22,17,16)\n",
    "s0_22=get_value_s0(i_22,ii_22,17,16)\n",
    "th_22_1 = threshold(s_22, 4)\n",
    "th_22_2 = threshold(s_22, 5)\n",
    "axes(s_22, s0_22, 's', 's0')\n",
    "axes(th_22_1, th_22_2, 'Threshold = 4', 'Threshold = 5')"
   ]
  },
  {
   "cell_type": "code",
   "execution_count": null,
   "metadata": {
    "collapsed": true
   },
   "outputs": [],
   "source": [
    "s_22=get_value_s(i_22,ii_22,13,16)\n",
    "s0_22=get_value_s0(i_22,ii_22,13,16)\n",
    "th_22_1 = threshold(s_22, 4)\n",
    "th_22_2 = threshold(s_22, 5)\n",
    "axes(s_22, s0_22, 's', 's0')\n",
    "axes(th_22_1, th_22_2, 'Threshold = 4', 'Threshold = 5')"
   ]
  },
  {
   "cell_type": "code",
   "execution_count": null,
   "metadata": {
    "collapsed": true
   },
   "outputs": [],
   "source": [
    "s_23=get_value_s(i_23,ii_23,15,16)\n",
    "s0_23=get_value_s0(i_23,ii_23,15,16)\n",
    "th_23_1 = threshold(s_23, 4)\n",
    "th_23_2 = threshold(s_23, 5)\n",
    "axes(s_23, s0_23, 's', 's0')\n",
    "axes(th_23_1, th_23_2, 'Threshold = 4', 'Threshold = 5')"
   ]
  },
  {
   "cell_type": "code",
   "execution_count": null,
   "metadata": {
    "collapsed": true
   },
   "outputs": [],
   "source": [
    "s_23=get_value_s(i_23,ii_23,17,16)\n",
    "s0_23=get_value_s0(i_23,ii_23,17,16)\n",
    "th_23_1 = threshold(s_23, 4)\n",
    "th_23_2 = threshold(s_23, 5)\n",
    "axes(s_23, s0_23, 's', 's0')\n",
    "axes(th_23_1, th_23_2, 'Threshold = 4', 'Threshold = 5')"
   ]
  },
  {
   "cell_type": "code",
   "execution_count": null,
   "metadata": {
    "collapsed": true
   },
   "outputs": [],
   "source": [
    "s_23=get_value_s(i_23,ii_23,13,16)\n",
    "s0_23=get_value_s0(i_23,ii_23,13,16)\n",
    "th_23_1 = threshold(s_23, 4)\n",
    "th_23_2 = threshold(s_23, 5)\n",
    "axes(s_23, s0_23, 's', 's0')\n",
    "axes(th_23_1, th_23_2, 'Threshold = 4', 'Threshold = 5')"
   ]
  },
  {
   "cell_type": "code",
   "execution_count": null,
   "metadata": {
    "collapsed": true
   },
   "outputs": [],
   "source": [
    "s_24=get_value_s(i_24,ii_24,15,16)\n",
    "s0_24=get_value_s0(i_24,ii_24,15,16)\n",
    "th_24_1 = threshold(s_24, 4)\n",
    "th_24_2 = threshold(s_24, 5)\n",
    "axes(s_24, s0_24, 's', 's0')\n",
    "axes(th_24_1, th_24_2, 'Threshold = 4', 'Threshold = 5')"
   ]
  },
  {
   "cell_type": "code",
   "execution_count": null,
   "metadata": {
    "collapsed": true
   },
   "outputs": [],
   "source": [
    "s_24=get_value_s(i_24,ii_24,17,16)\n",
    "s0_24=get_value_s0(i_24,ii_24,17,16)\n",
    "th_24_1 = threshold(s_24, 4)\n",
    "th_24_2 = threshold(s_24, 5)\n",
    "axes(s_24, s0_24, 's', 's0')\n",
    "axes(th_24_1, th_24_2, 'Threshold = 4', 'Threshold = 5')"
   ]
  },
  {
   "cell_type": "code",
   "execution_count": null,
   "metadata": {
    "collapsed": true
   },
   "outputs": [],
   "source": [
    "s_24=get_value_s(i_24,ii_24,13,16)\n",
    "s0_24=get_value_s0(i_24,ii_24,13,16)\n",
    "th_24_1 = threshold(s_24, 4)\n",
    "th_24_2 = threshold(s_24, 5)\n",
    "axes(s_24, s0_24, 's', 's0')\n",
    "axes(th_24_1, th_24_2, 'Threshold = 4', 'Threshold = 5')"
   ]
  },
  {
   "cell_type": "code",
   "execution_count": null,
   "metadata": {
    "collapsed": true
   },
   "outputs": [],
   "source": [
    "s_25=get_value_s(i_25,ii_25,15,16)\n",
    "s0_25=get_value_s0(i_25,ii_25,15,16)\n",
    "th_25_1 = threshold(s_25, 4)\n",
    "th_25_2 = threshold(s_25, 5)\n",
    "axes(s_25, s0_25, 's', 's0')\n",
    "axes(th_25_1, th_25_2, 'Threshold = 4', 'Threshold = 5')"
   ]
  },
  {
   "cell_type": "code",
   "execution_count": null,
   "metadata": {
    "collapsed": true
   },
   "outputs": [],
   "source": [
    "s_25=get_value_s(i_25,ii_25,17,16)\n",
    "s0_25=get_value_s0(i_25,ii_25,17,16)\n",
    "th_25_1 = threshold(s_25, 4)\n",
    "th_25_2 = threshold(s_25, 5)\n",
    "axes(s_25, s0_25, 's', 's0')\n",
    "axes(th_25_1, th_25_2, 'Threshold = 4', 'Threshold = 5')"
   ]
  },
  {
   "cell_type": "code",
   "execution_count": null,
   "metadata": {
    "collapsed": true
   },
   "outputs": [],
   "source": [
    "s_25=get_value_s(i_25,ii_25,13,16)\n",
    "s0_25=get_value_s0(i_25,ii_25,13,16)\n",
    "th_25_1 = threshold(s_25, 4)\n",
    "th_25_2 = threshold(s_25, 5)\n",
    "axes(s_25, s0_25, 's', 's0')\n",
    "axes(th_25_1, th_25_2, 'Threshold = 4', 'Threshold = 5')"
   ]
  },
  {
   "cell_type": "code",
   "execution_count": null,
   "metadata": {
    "collapsed": true
   },
   "outputs": [],
   "source": [
    "s_26=get_value_s(i_26,ii_26,15,16)\n",
    "s0_26=get_value_s0(i_26,ii_26,15,16)\n",
    "th_26_1 = threshold(s_26, 4)\n",
    "th_26_2 = threshold(s_26, 5)\n",
    "axes(s_26, s0_26, 's', 's0')\n",
    "axes(th_26_1, th_26_2, 'Threshold = 4', 'Threshold = 5')"
   ]
  },
  {
   "cell_type": "code",
   "execution_count": null,
   "metadata": {
    "collapsed": true
   },
   "outputs": [],
   "source": [
    "s_26=get_value_s(i_26,ii_26,17,16)\n",
    "s0_26=get_value_s0(i_26,ii_26,17,16)\n",
    "th_26_1 = threshold(s_26, 4)\n",
    "th_26_2 = threshold(s_26, 5)\n",
    "axes(s_26, s0_26, 's', 's0')\n",
    "axes(th_26_1, th_26_2, 'Threshold = 4', 'Threshold = 5')"
   ]
  },
  {
   "cell_type": "code",
   "execution_count": null,
   "metadata": {
    "collapsed": true
   },
   "outputs": [],
   "source": [
    "s_26=get_value_s(i_26,ii_26,13,16)\n",
    "s0_26=get_value_s0(i_26,ii_26,13,16)\n",
    "th_26_1 = threshold(s_26, 4)\n",
    "th_26_2 = threshold(s_26, 5)\n",
    "axes(s_26, s0_26, 's', 's0')\n",
    "axes(th_26_1, th_26_2, 'Threshold = 4', 'Threshold = 5')"
   ]
  },
  {
   "cell_type": "code",
   "execution_count": null,
   "metadata": {
    "collapsed": true
   },
   "outputs": [],
   "source": [
    "s_27=get_value_s(i_27,ii_27,15,16)\n",
    "s0_27=get_value_s0(i_27,ii_27,15,16)\n",
    "th_27_1 = threshold(s_27, 4)\n",
    "th_27_2 = threshold(s_27, 5)\n",
    "axes(s_27, s0_27, 's', 's0')\n",
    "axes(th_27_1, th_27_2, 'Threshold = 4', 'Threshold = 5')"
   ]
  },
  {
   "cell_type": "code",
   "execution_count": null,
   "metadata": {
    "collapsed": true
   },
   "outputs": [],
   "source": [
    "s_27=get_value_s(i_27,ii_27,17,16)\n",
    "s0_27=get_value_s0(i_27,ii_27,17,16)\n",
    "th_27_1 = threshold(s_27, 4)\n",
    "th_27_2 = threshold(s_27, 5)\n",
    "axes(s_27, s0_27, 's', 's0')\n",
    "axes(th_27_1, th_27_2, 'Threshold = 4', 'Threshold = 5')"
   ]
  },
  {
   "cell_type": "code",
   "execution_count": null,
   "metadata": {
    "collapsed": true
   },
   "outputs": [],
   "source": [
    "s_27=get_value_s(i_27,ii_27,13,16)\n",
    "s0_27=get_value_s0(i_27,ii_27,13,16)\n",
    "th_27_1 = threshold(s_27, 4)\n",
    "th_27_2 = threshold(s_27, 5)\n",
    "axes(s_27, s0_27, 's', 's0')\n",
    "axes(th_27_1, th_27_2, 'Threshold = 4', 'Threshold = 5')"
   ]
  },
  {
   "cell_type": "code",
   "execution_count": null,
   "metadata": {
    "collapsed": true
   },
   "outputs": [],
   "source": [
    "s_28=get_value_s(i_28,ii_28,15,16)\n",
    "s0_28=get_value_s0(i_28, ii_28,15,16)\n",
    "th_28_1 = threshold(s_28, 4)\n",
    "th_28_2 = threshold(s_28 5)\n",
    "axes(s_28, s0_28, 's', 's0')\n",
    "axes(th_28_1, th_28_2, 'Threshold = 4', 'Threshold = 5')"
   ]
  },
  {
   "cell_type": "code",
   "execution_count": null,
   "metadata": {
    "collapsed": true
   },
   "outputs": [],
   "source": [
    "s_28=get_value_s(i_28,ii_28,17,16)\n",
    "s0_28=get_value_s0(i_28, ii_28,17,16)\n",
    "th_28_1 = threshold(s_28, 4)\n",
    "th_28_2 = threshold(s_28 5)\n",
    "axes(s_28, s0_28, 's', 's0')\n",
    "axes(th_28_1, th_28_2, 'Threshold = 4', 'Threshold = 5')"
   ]
  },
  {
   "cell_type": "code",
   "execution_count": null,
   "metadata": {
    "collapsed": true
   },
   "outputs": [],
   "source": [
    "s_28=get_value_s(i_28,ii_28,13,16)\n",
    "s0_28=get_value_s0(i_28, ii_28,13,16)\n",
    "th_28_1 = threshold(s_28, 4)\n",
    "th_28_2 = threshold(s_28 5)\n",
    "axes(s_28, s0_28, 's', 's0')\n",
    "axes(th_28_1, th_28_2, 'Threshold = 4', 'Threshold = 5')"
   ]
  },
  {
   "cell_type": "code",
   "execution_count": null,
   "metadata": {
    "collapsed": true
   },
   "outputs": [],
   "source": [
    "s_29=get_value_s(i_29,ii_29,15,16)\n",
    "s0_29=get_value_s0(i_29,ii_29,15,16)\n",
    "th_29_1 = threshold(s_29, 4)\n",
    "th_29_2 = threshold(s_29, 5)\n",
    "axes(s_29, s0_29, 's', 's0')\n",
    "axes(th_29_1, th_29_2, 'Threshold = 4', 'Threshold = 5')"
   ]
  },
  {
   "cell_type": "code",
   "execution_count": null,
   "metadata": {
    "collapsed": true
   },
   "outputs": [],
   "source": [
    "s_29=get_value_s(i_29,ii_29,17,16)\n",
    "s0_29=get_value_s0(i_29,ii_29,17,16)\n",
    "th_29_1 = threshold(s_29, 4)\n",
    "th_29_2 = threshold(s_29, 5)\n",
    "axes(s_29, s0_29, 's', 's0')\n",
    "axes(th_29_1, th_29_2, 'Threshold = 4', 'Threshold = 5')"
   ]
  },
  {
   "cell_type": "code",
   "execution_count": null,
   "metadata": {
    "collapsed": true
   },
   "outputs": [],
   "source": [
    "s_29=get_value_s(i_29,ii_29,13,16)\n",
    "s0_29=get_value_s0(i_29,ii_29,13,16)\n",
    "th_29_1 = threshold(s_29, 4)\n",
    "th_29_2 = threshold(s_29, 5)\n",
    "axes(s_29, s0_29, 's', 's0')\n",
    "axes(th_29_1, th_29_2, 'Threshold = 4', 'Threshold = 5')"
   ]
  },
  {
   "cell_type": "code",
   "execution_count": null,
   "metadata": {
    "collapsed": true
   },
   "outputs": [],
   "source": [
    "s_30=get_value_s(i_30,ii_30,15,16)\n",
    "s0_30=get_value_s0(i_30,ii_30,15,16)\n",
    "th_30_1 = threshold(s_30, 4)\n",
    "th_30_2 = threshold(s_30, 5)\n",
    "axes(s_30, s0_30, 's', 's0')\n",
    "axes(th_30_1, th_30_2, 'Threshold = 4', 'Threshold = 5')"
   ]
  },
  {
   "cell_type": "code",
   "execution_count": null,
   "metadata": {
    "collapsed": true
   },
   "outputs": [],
   "source": [
    "s_30=get_value_s(i_30,ii_30,17,16)\n",
    "s0_30=get_value_s0(i_30,ii_30,17,16)\n",
    "th_30_1 = threshold(s_30, 4)\n",
    "th_30_2 = threshold(s_30, 5)\n",
    "axes(s_30, s0_30, 's', 's0')\n",
    "axes(th_30_1, th_30_2, 'Threshold = 4', 'Threshold = 5')"
   ]
  },
  {
   "cell_type": "code",
   "execution_count": null,
   "metadata": {
    "collapsed": true
   },
   "outputs": [],
   "source": [
    "s_30=get_value_s(i_30,ii_30,13,16)\n",
    "s0_30=get_value_s0(i_30,ii_30,13,16)\n",
    "th_30_1 = threshold(s_30, 4)\n",
    "th_30_2 = threshold(s_30, 5)\n",
    "axes(s_30, s0_30, 's', 's0')\n",
    "axes(th_30_1, th_30_2, 'Threshold = 4', 'Threshold = 5')"
   ]
  },
  {
   "cell_type": "code",
   "execution_count": null,
   "metadata": {
    "collapsed": true
   },
   "outputs": [],
   "source": [
    "s_31=get_value_s(i_31,ii_31,15,16)\n",
    "s0_31=get_value_s0(i_31,ii_31,15,16)\n",
    "th_31_1 = threshold(s_31, 4)\n",
    "th_31_2 = threshold(s_31, 5)\n",
    "axes(s_31, s0_31, 's', 's0')\n",
    "axes(th_31_1, th_31_2, 'Threshold = 4', 'Threshold = 5')"
   ]
  },
  {
   "cell_type": "code",
   "execution_count": null,
   "metadata": {
    "collapsed": true
   },
   "outputs": [],
   "source": [
    "s_31=get_value_s(i_31,ii_31,17,16)\n",
    "s0_31=get_value_s0(i_31,ii_31,17,16)\n",
    "th_31_1 = threshold(s_31, 4)\n",
    "th_31_2 = threshold(s_31, 5)\n",
    "axes(s_31, s0_31, 's', 's0')\n",
    "axes(th_31_1, th_31_2, 'Threshold = 4', 'Threshold = 5')"
   ]
  },
  {
   "cell_type": "code",
   "execution_count": null,
   "metadata": {
    "collapsed": true
   },
   "outputs": [],
   "source": [
    "s_31=get_value_s(i_31,ii_31,13,16)\n",
    "s0_31=get_value_s0(i_31,ii_31,13,16)\n",
    "th_31_1 = threshold(s_31, 4)\n",
    "th_31_2 = threshold(s_31, 5)\n",
    "axes(s_31, s0_31, 's', 's0')\n",
    "axes(th_31_1, th_31_2, 'Threshold = 4', 'Threshold = 5')"
   ]
  },
  {
   "cell_type": "code",
   "execution_count": null,
   "metadata": {
    "collapsed": true
   },
   "outputs": [],
   "source": [
    "s_32=get_value_s(i_32,ii_32,15,16)\n",
    "s0_32=get_value_s0(i_32,ii_32,15,16)\n",
    "th_32_1 = threshold(s_32, 4)\n",
    "th_32_2 = threshold(s_32, 5)\n",
    "axes(s_32, s0_32, 's', 's0')\n",
    "axes(th_32_1, th_32_2, 'Threshold = 4', 'Threshold = 5')"
   ]
  },
  {
   "cell_type": "code",
   "execution_count": null,
   "metadata": {
    "collapsed": true
   },
   "outputs": [],
   "source": [
    "s_32=get_value_s(i_32,ii_32,17,16)\n",
    "s0_32=get_value_s0(i_32,ii_32,17,16)\n",
    "th_32_1 = threshold(s_32, 4)\n",
    "th_32_2 = threshold(s_32, 5)\n",
    "axes(s_32, s0_32, 's', 's0')\n",
    "axes(th_32_1, th_32_2, 'Threshold = 4', 'Threshold = 5')"
   ]
  },
  {
   "cell_type": "code",
   "execution_count": null,
   "metadata": {
    "collapsed": true
   },
   "outputs": [],
   "source": [
    "s_32=get_value_s(i_32,ii_32,13,16)\n",
    "s0_32=get_value_s0(i_32,ii_32,13,16)\n",
    "th_32_1 = threshold(s_32, 4)\n",
    "th_32_2 = threshold(s_32, 5)\n",
    "axes(s_32, s0_32, 's', 's0')\n",
    "axes(th_32_1, th_32_2, 'Threshold = 4', 'Threshold = 5')"
   ]
  },
  {
   "cell_type": "code",
   "execution_count": null,
   "metadata": {
    "collapsed": true
   },
   "outputs": [],
   "source": [
    "s_33=get_value_s(i_33,ii_33,15,16)\n",
    "s0_33=get_value_s0(i_33,ii_33,15,16)\n",
    "th_33_1 = threshold(s_33, 4)\n",
    "th_33_2 = threshold(s_33, 5)\n",
    "axes(s_33, s0_33, 's', 's0')\n",
    "axes(th_33_1, th_33_2, 'Threshold = 4', 'Threshold = 5')"
   ]
  },
  {
   "cell_type": "code",
   "execution_count": null,
   "metadata": {
    "collapsed": true
   },
   "outputs": [],
   "source": [
    "s_33=get_value_s(i_33,ii_33,17,16)\n",
    "s0_33=get_value_s0(i_33,ii_33,17,16)\n",
    "th_33_1 = threshold(s_33, 4)\n",
    "th_33_2 = threshold(s_33, 5)\n",
    "axes(s_33, s0_33, 's', 's0')\n",
    "axes(th_33_1, th_33_2, 'Threshold = 4', 'Threshold = 5')"
   ]
  },
  {
   "cell_type": "code",
   "execution_count": null,
   "metadata": {
    "collapsed": true
   },
   "outputs": [],
   "source": [
    "s_33=get_value_s(i_33,ii_33,13,16)\n",
    "s0_33=get_value_s0(i_33,ii_33,13,16)\n",
    "th_33_1 = threshold(s_33, 4)\n",
    "th_33_2 = threshold(s_33, 5)\n",
    "axes(s_33, s0_33, 's', 's0')\n",
    "axes(th_33_1, th_33_2, 'Threshold = 4', 'Threshold = 5')"
   ]
  },
  {
   "cell_type": "code",
   "execution_count": null,
   "metadata": {
    "collapsed": true
   },
   "outputs": [],
   "source": [
    "s_34=get_value_s(i_34,ii_34,15,16)\n",
    "s0_34=get_value_s0(i_34,ii_34,15,16)\n",
    "th_34_1 = threshold(s_34, 4)\n",
    "th_34_2 = threshold(s_34, 5)\n",
    "axes(s_34, s0_34, 's', 's0')\n",
    "axes(th_34_1, th_34_2, 'Threshold = 4', 'Threshold = 5')"
   ]
  },
  {
   "cell_type": "code",
   "execution_count": null,
   "metadata": {
    "collapsed": true
   },
   "outputs": [],
   "source": [
    "s_34=get_value_s(i_34,ii_34,17,16)\n",
    "s0_34=get_value_s0(i_34,ii_34,17,16)\n",
    "th_34_1 = threshold(s_34, 4)\n",
    "th_34_2 = threshold(s_34, 5)\n",
    "axes(s_34, s0_34, 's', 's0')\n",
    "axes(th_34_1, th_34_2, 'Threshold = 4', 'Threshold = 5')"
   ]
  },
  {
   "cell_type": "code",
   "execution_count": null,
   "metadata": {
    "collapsed": true
   },
   "outputs": [],
   "source": [
    "s_34=get_value_s(i_34,ii_34,13,16)\n",
    "s0_34=get_value_s0(i_34,ii_34,13,16)\n",
    "th_34_1 = threshold(s_34, 4)\n",
    "th_34_2 = threshold(s_34, 5)\n",
    "axes(s_34, s0_34, 's', 's0')\n",
    "axes(th_34_1, th_34_2, 'Threshold = 4', 'Threshold = 5')"
   ]
  },
  {
   "cell_type": "code",
   "execution_count": null,
   "metadata": {
    "collapsed": true
   },
   "outputs": [],
   "source": [
    "s_35=get_value_s(i_35,ii_35,15,16)\n",
    "s0_35=get_value_s0(i_35,ii_35,15,16)\n",
    "th_35_1 = threshold(s_35, 4)\n",
    "th_35_2 = threshold(s_35, 5)\n",
    "axes(s_35, s0_35, 's', 's0')\n",
    "axes(th_35_1, th_35_2, 'Threshold = 4', 'Threshold = 5')"
   ]
  },
  {
   "cell_type": "code",
   "execution_count": null,
   "metadata": {
    "collapsed": true
   },
   "outputs": [],
   "source": [
    "s_35=get_value_s(i_35,ii_35,17,16)\n",
    "s0_35=get_value_s0(i_35,ii_35,17,16)\n",
    "th_35_1 = threshold(s_35, 4)\n",
    "th_35_2 = threshold(s_35, 5)\n",
    "axes(s_35, s0_35, 's', 's0')\n",
    "axes(th_35_1, th_35_2, 'Threshold = 4', 'Threshold = 5')"
   ]
  },
  {
   "cell_type": "code",
   "execution_count": null,
   "metadata": {
    "collapsed": true
   },
   "outputs": [],
   "source": [
    "s_35=get_value_s(i_35,ii_35,13,16)\n",
    "s0_35=get_value_s0(i_35,ii_35,13,16)\n",
    "th_35_1 = threshold(s_35, 4)\n",
    "th_35_2 = threshold(s_35, 5)\n",
    "axes(s_35, s0_35, 's', 's0')\n",
    "axes(th_35_1, th_35_2, 'Threshold = 4', 'Threshold = 5')"
   ]
  },
  {
   "cell_type": "code",
   "execution_count": null,
   "metadata": {
    "collapsed": true
   },
   "outputs": [],
   "source": [
    "s_36=get_value_s(i_36,ii_36,15,16)\n",
    "s0_36=get_value_s0(i_36,ii_36,15,16)\n",
    "th_36_1 = threshold(s_36, 4)\n",
    "th_36_2 = threshold(s_36, 5)\n",
    "axes(s_36, s0_36, 's', 's0')\n",
    "axes(th_36_1, th_36_2, 'Threshold = 4', 'Threshold = 5')"
   ]
  },
  {
   "cell_type": "code",
   "execution_count": null,
   "metadata": {
    "collapsed": true
   },
   "outputs": [],
   "source": [
    "s_36=get_value_s(i_36,ii_36,17,16)\n",
    "s0_36=get_value_s0(i_36,ii_36,17,16)\n",
    "th_36_1 = threshold(s_36, 4)\n",
    "th_36_2 = threshold(s_36, 5)\n",
    "axes(s_36, s0_36, 's', 's0')\n",
    "axes(th_36_1, th_36_2, 'Threshold = 4', 'Threshold = 5')"
   ]
  },
  {
   "cell_type": "code",
   "execution_count": null,
   "metadata": {
    "collapsed": true
   },
   "outputs": [],
   "source": [
    "s_36=get_value_s(i_36,ii_36,13,16)\n",
    "s0_36=get_value_s0(i_36,ii_36,13,16)\n",
    "th_36_1 = threshold(s_36, 4)\n",
    "th_36_2 = threshold(s_36, 5)\n",
    "axes(s_36, s0_36, 's', 's0')\n",
    "axes(th_36_1, th_36_2, 'Threshold = 4', 'Threshold = 5')"
   ]
  },
  {
   "cell_type": "code",
   "execution_count": null,
   "metadata": {
    "collapsed": true
   },
   "outputs": [],
   "source": [
    "s_37=get_value_s(i_37,ii_37,15,16)\n",
    "s0_37=get_value_s0(i_37,ii_37,15,16)\n",
    "th_37_1 = threshold(s_37, 4)\n",
    "th_37_2 = threshold(s_37, 5)\n",
    "axes(s_37, s0_37, 's', 's0')\n",
    "axes(th_37_1, th_37_2, 'Threshold = 4', 'Threshold = 5')"
   ]
  },
  {
   "cell_type": "code",
   "execution_count": null,
   "metadata": {
    "collapsed": true
   },
   "outputs": [],
   "source": [
    "s_37=get_value_s(i_37,ii_37,17,16)\n",
    "s0_37=get_value_s0(i_37,ii_37,17,16)\n",
    "th_37_1 = threshold(s_37, 4)\n",
    "th_37_2 = threshold(s_37, 5)\n",
    "axes(s_37, s0_37, 's', 's0')\n",
    "axes(th_37_1, th_37_2, 'Threshold = 4', 'Threshold = 5')"
   ]
  },
  {
   "cell_type": "code",
   "execution_count": null,
   "metadata": {
    "collapsed": true
   },
   "outputs": [],
   "source": [
    "s_37=get_value_s(i_37,ii_37,13,16)\n",
    "s0_37=get_value_s0(i_37,ii_37,13,16)\n",
    "th_37_1 = threshold(s_37, 4)\n",
    "th_37_2 = threshold(s_37, 5)\n",
    "axes(s_37, s0_37, 's', 's0')\n",
    "axes(th_37_1, th_37_2, 'Threshold = 4', 'Threshold = 5')"
   ]
  },
  {
   "cell_type": "code",
   "execution_count": null,
   "metadata": {
    "collapsed": true
   },
   "outputs": [],
   "source": [
    "s_38=get_value_s(i_38,ii_38,15,16)\n",
    "s0_38=get_value_s0(i_38,ii_38,15,16)\n",
    "th_38_1 = threshold(s_38, 4)\n",
    "th_38_2 = threshold(s_38, 5)\n",
    "axes(s_38, s0_38, 's', 's0')\n",
    "axes(th_38_1, th_38_2, 'Threshold = 4', 'Threshold = 5')"
   ]
  },
  {
   "cell_type": "code",
   "execution_count": null,
   "metadata": {
    "collapsed": true
   },
   "outputs": [],
   "source": [
    "s_38=get_value_s(i_38,ii_38,17,16)\n",
    "s0_38=get_value_s0(i_38,ii_38,17,16)\n",
    "th_38_1 = threshold(s_38, 4)\n",
    "th_38_2 = threshold(s_38, 5)\n",
    "axes(s_38, s0_38, 's', 's0')\n",
    "axes(th_38_1, th_38_2, 'Threshold = 4', 'Threshold = 5')"
   ]
  },
  {
   "cell_type": "code",
   "execution_count": null,
   "metadata": {
    "collapsed": true
   },
   "outputs": [],
   "source": [
    "s_38=get_value_s(i_38,ii_38,13,16)\n",
    "s0_38=get_value_s0(i_38,ii_38,13,16)\n",
    "th_38_1 = threshold(s_38, 4)\n",
    "th_38_2 = threshold(s_38, 5)\n",
    "axes(s_38, s0_38, 's', 's0')\n",
    "axes(th_38_1, th_38_2, 'Threshold = 4', 'Threshold = 5')"
   ]
  },
  {
   "cell_type": "code",
   "execution_count": null,
   "metadata": {
    "collapsed": true
   },
   "outputs": [],
   "source": [
    "s_39=get_value_s(i_39,ii_39,15,16)\n",
    "s0_39=get_value_s0(i_39, ii_39,15,16)\n",
    "th_39_1 = threshold(s_39, 4)\n",
    "th_39_2 = threshold(s_39, 5)\n",
    "axes(s_39, s0_39, 's', 's0')\n",
    "axes(th_39_1, th_39_2, 'Threshold = 4', 'Threshold = 5')"
   ]
  },
  {
   "cell_type": "code",
   "execution_count": null,
   "metadata": {
    "collapsed": true
   },
   "outputs": [],
   "source": [
    "s_39=get_value_s(i_39,ii_39,17,16)\n",
    "s0_39=get_value_s0(i_39, ii_39,17,16)\n",
    "th_39_1 = threshold(s_39, 4)\n",
    "th_39_2 = threshold(s_39, 5)\n",
    "axes(s_39, s0_39, 's', 's0')\n",
    "axes(th_39_1, th_39_2, 'Threshold = 4', 'Threshold = 5')"
   ]
  },
  {
   "cell_type": "code",
   "execution_count": null,
   "metadata": {
    "collapsed": true
   },
   "outputs": [],
   "source": [
    "s_39=get_value_s(i_39,ii_39,13,16)\n",
    "s0_39=get_value_s0(i_39, ii_39,13,16)\n",
    "th_39_1 = threshold(s_39, 4)\n",
    "th_39_2 = threshold(s_39, 5)\n",
    "axes(s_39, s0_39, 's', 's0')\n",
    "axes(th_39_1, th_39_2, 'Threshold = 4', 'Threshold = 5')"
   ]
  },
  {
   "cell_type": "code",
   "execution_count": null,
   "metadata": {
    "collapsed": true
   },
   "outputs": [],
   "source": [
    "s_40=get_value_s(i_40,ii_40,15,16)\n",
    "s0_40=get_value_s0(i_40,ii_40,15,16)\n",
    "th_40_1 = threshold(s_40, 4)\n",
    "th_40_2 = threshold(s_40, 5)\n",
    "axes(s_40, s0_40, 's', 's0')\n",
    "axes(th_40_1, th_40_2, 'Threshold = 4', 'Threshold = 5')"
   ]
  },
  {
   "cell_type": "code",
   "execution_count": null,
   "metadata": {
    "collapsed": true
   },
   "outputs": [],
   "source": [
    "s_40=get_value_s(i_40,ii_40,17,16)\n",
    "s0_40=get_value_s0(i_40,ii_40,17,16)\n",
    "th_40_1 = threshold(s_40, 4)\n",
    "th_40_2 = threshold(s_40, 5)\n",
    "axes(s_40, s0_40, 's', 's0')\n",
    "axes(th_40_1, th_40_2, 'Threshold = 4', 'Threshold = 5')"
   ]
  },
  {
   "cell_type": "code",
   "execution_count": null,
   "metadata": {
    "collapsed": true
   },
   "outputs": [],
   "source": [
    "s_40=get_value_s(i_40,ii_40,13,16)\n",
    "s0_40=get_value_s0(i_40,ii_40,13,16)\n",
    "th_40_1 = threshold(s_40, 4)\n",
    "th_40_2 = threshold(s_40, 5)\n",
    "axes(s_40, s0_40, 's', 's0')\n",
    "axes(th_40_1, th_40_2, 'Threshold = 4', 'Threshold = 5')"
   ]
  },
  {
   "cell_type": "code",
   "execution_count": null,
   "metadata": {
    "collapsed": true
   },
   "outputs": [],
   "source": [
    "metrics(im_th, padding(iv_21,16),padding(ii_21,16) )"
   ]
  },
  {
   "cell_type": "code",
   "execution_count": null,
   "metadata": {
    "collapsed": true,
    "scrolled": false
   },
   "outputs": [],
   "source": [
    "axes(img1,im_th, 'imagem sem normalização', 'imagem com normalização')"
   ]
  },
  {
   "cell_type": "code",
   "execution_count": null,
   "metadata": {
    "collapsed": true
   },
   "outputs": [],
   "source": [
    "imsave('threshold_exp77',im_th)"
   ]
  },
  {
   "cell_type": "code",
   "execution_count": null,
   "metadata": {
    "collapsed": true
   },
   "outputs": [],
   "source": []
  },
  {
   "cell_type": "code",
   "execution_count": null,
   "metadata": {
    "collapsed": true
   },
   "outputs": [],
   "source": [
    "def histogram(img,mask):\n",
    "    \n",
    "    ht = zeros((256))\n",
    "    idx_ext, idy_ext = nonzero (mask!=0) #cria um array com as posiçoes em que a mascara nao é preta\n",
    "    \n",
    "    for i in range (idx_ext.size): #para cada posiçao guardada\n",
    "        valor = img[idx_ext[i], idy_ext[i]] #retira o valor correspondente no array de entrada\n",
    "        ht[valor]=ht[valor]+1 #guarda na matriz de zeros a contagem\n",
    "        \n",
    "    return ht"
   ]
  },
  {
   "cell_type": "markdown",
   "metadata": {},
   "source": [
    "### Histograma do background-Vasos"
   ]
  },
  {
   "cell_type": "markdown",
   "metadata": {},
   "source": [
    "### Histograma dos vasos"
   ]
  },
  {
   "cell_type": "markdown",
   "metadata": {},
   "source": [
    "### Histograma do background"
   ]
  },
  {
   "cell_type": "code",
   "execution_count": null,
   "metadata": {
    "collapsed": true
   },
   "outputs": [],
   "source": [
    "plot(hist_background(img1,padding(ii_21,16),padding(iv_21,16))[0:10])"
   ]
  },
  {
   "cell_type": "code",
   "execution_count": null,
   "metadata": {
    "collapsed": true
   },
   "outputs": [],
   "source": []
  },
  {
   "cell_type": "code",
   "execution_count": null,
   "metadata": {
    "collapsed": true
   },
   "outputs": [],
   "source": []
  },
  {
   "cell_type": "code",
   "execution_count": null,
   "metadata": {
    "collapsed": true
   },
   "outputs": [],
   "source": [
    "a=threshold(s_01)"
   ]
  },
  {
   "cell_type": "code",
   "execution_count": null,
   "metadata": {
    "collapsed": true
   },
   "outputs": [],
   "source": [
    "b=threshold(s_02)"
   ]
  },
  {
   "cell_type": "code",
   "execution_count": null,
   "metadata": {
    "collapsed": true
   },
   "outputs": [],
   "source": [
    "imsave('th.png',a)"
   ]
  },
  {
   "cell_type": "code",
   "execution_count": null,
   "metadata": {
    "collapsed": true
   },
   "outputs": [],
   "source": [
    "imshow(b)"
   ]
  },
  {
   "cell_type": "code",
   "execution_count": null,
   "metadata": {
    "collapsed": true
   },
   "outputs": [],
   "source": []
  },
  {
   "cell_type": "code",
   "execution_count": null,
   "metadata": {
    "collapsed": true
   },
   "outputs": [],
   "source": []
  },
  {
   "cell_type": "code",
   "execution_count": null,
   "metadata": {
    "collapsed": true
   },
   "outputs": [],
   "source": []
  },
  {
   "cell_type": "code",
   "execution_count": null,
   "metadata": {
    "collapsed": true
   },
   "outputs": [],
   "source": []
  },
  {
   "cell_type": "code",
   "execution_count": null,
   "metadata": {
    "collapsed": true
   },
   "outputs": [],
   "source": [
    "file = open(\"testfile.txt\", \"w\")\n",
    "\n",
    "file.write(\"This is a test\") \n",
    "file.write(\"To add more lines.\")\n",
    "\n",
    "file.close()"
   ]
  },
  {
   "cell_type": "code",
   "execution_count": null,
   "metadata": {
    "collapsed": true
   },
   "outputs": [],
   "source": [
    "f= open(\"guru99.txt\",\"w+\")\n",
    "accuracy=10\n",
    "f.write(\"accuracy %d\\r\\n\" % (accuracy))\n",
    "f.close() "
   ]
  },
  {
   "cell_type": "code",
   "execution_count": null,
   "metadata": {
    "collapsed": true
   },
   "outputs": [],
   "source": [
    "path=input('Coloque a diretoria das suas imagens  ')"
   ]
  },
  {
   "cell_type": "code",
   "execution_count": null,
   "metadata": {
    "collapsed": true
   },
   "outputs": [],
   "source": [
    "os.chdir(path)"
   ]
  },
  {
   "cell_type": "code",
   "execution_count": null,
   "metadata": {
    "collapsed": true
   },
   "outputs": [],
   "source": [
    "print(os.getcwd())"
   ]
  },
  {
   "cell_type": "code",
   "execution_count": null,
   "metadata": {
    "collapsed": true
   },
   "outputs": [],
   "source": []
  }
 ],
 "metadata": {
  "anaconda-cloud": {},
  "kernelspec": {
   "display_name": "Python 3",
   "language": "python",
   "name": "python3"
  },
  "language_info": {
   "codemirror_mode": {
    "name": "ipython",
    "version": 3
   },
   "file_extension": ".py",
   "mimetype": "text/x-python",
   "name": "python",
   "nbconvert_exporter": "python",
   "pygments_lexer": "ipython3",
   "version": "3.6.3"
  }
 },
 "nbformat": 4,
 "nbformat_minor": 1
}
